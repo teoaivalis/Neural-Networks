{
  "nbformat": 4,
  "nbformat_minor": 0,
  "metadata": {
    "kernelspec": {
      "language": "python",
      "display_name": "Python 3",
      "name": "python3"
    },
    "language_info": {
      "name": "python",
      "version": "3.7.10",
      "mimetype": "text/x-python",
      "codemirror_mode": {
        "name": "ipython",
        "version": 3
      },
      "pygments_lexer": "ipython3",
      "nbconvert_exporter": "python",
      "file_extension": ".py"
    },
    "colab": {
      "name": "lab-1 _part_2.ipynb",
      "provenance": []
    }
  },
  "cells": [
    {
      "cell_type": "markdown",
      "metadata": {
        "id": "LZNcOKJhgzsr"
      },
      "source": [
        "Αϊβαλής Θεόδωρος 03117099\n",
        "\n",
        "Σαλιαράκης Παύλος 03117135"
      ]
    },
    {
      "cell_type": "code",
      "metadata": {
        "_uuid": "8f2839f25d086af736a60e9eeb907d3b93b6e0e5",
        "_cell_guid": "b1076dfc-b9ad-4769-8c92-a6c4dae69d19",
        "execution": {
          "iopub.status.busy": "2021-12-02T15:29:03.855657Z",
          "iopub.execute_input": "2021-12-02T15:29:03.855944Z",
          "iopub.status.idle": "2021-12-02T15:29:07.473022Z",
          "shell.execute_reply.started": "2021-12-02T15:29:03.855914Z",
          "shell.execute_reply": "2021-12-02T15:29:07.472190Z"
        },
        "trusted": true,
        "id": "V83jfNBOcqvF",
        "outputId": "372976a8-fb83-4215-cfbb-3ee6968191ae"
      },
      "source": [
        "import pandas as pd\n",
        "import numpy as np\n",
        "from sklearn.model_selection import train_test_split,GridSearchCV\n",
        "from sklearn.metrics import classification_report, f1_score, precision_score, recall_score, confusion_matrix\n",
        "from sklearn.svm import SVC, LinearSVC\n",
        "from sklearn.dummy import DummyClassifier\n",
        "from sklearn.naive_bayes import GaussianNB\n",
        "from sklearn.neighbors import KNeighborsClassifier\n",
        "from sklearn.neural_network import MLPClassifier\n",
        "from sklearn.impute import SimpleImputer\n",
        "from sklearn import preprocessing\n",
        "import matplotlib.pyplot as plt\n",
        "from imblearn.pipeline import Pipeline\n",
        "from sklearn.feature_selection import VarianceThreshold\n",
        "from sklearn.preprocessing import StandardScaler \n",
        "from imblearn.over_sampling import RandomOverSampler\n",
        "from sklearn.metrics import accuracy_score\n",
        "from sklearn.decomposition import PCA\n",
        "from sklearn import neighbors\n",
        "import seaborn as sns\n",
        "import time\n",
        "import numpy as np # linear algebra\n",
        "import pandas as pd # data processing, CSV file I/O (e.g. pd.read_csv)\n",
        "from sklearn.preprocessing import LabelEncoder, StandardScaler\n",
        "\n",
        "\n",
        "df_data = pd.read_csv(\"/kaggle/input/csgo-round-winner-classification/csgo_round_snapshots.csv\")\n",
        "print(df_data.shape)\n",
        "df_data.head()"
      ],
      "execution_count": null,
      "outputs": [
        {
          "name": "stdout",
          "text": "(122410, 97)\n",
          "output_type": "stream"
        },
        {
          "execution_count": 2,
          "output_type": "execute_result",
          "data": {
            "text/plain": "   time_left  ct_score  t_score       map  bomb_planted  ct_health  t_health  \\\n0     175.00       0.0      0.0  de_dust2         False      500.0     500.0   \n1     156.03       0.0      0.0  de_dust2         False      500.0     500.0   \n2      96.03       0.0      0.0  de_dust2         False      391.0     400.0   \n3      76.03       0.0      0.0  de_dust2         False      391.0     400.0   \n4     174.97       1.0      0.0  de_dust2         False      500.0     500.0   \n\n   ct_armor  t_armor  ct_money  ...  t_grenade_flashbang  \\\n0       0.0      0.0    4000.0  ...                  0.0   \n1     400.0    300.0     600.0  ...                  0.0   \n2     294.0    200.0     750.0  ...                  0.0   \n3     294.0    200.0     750.0  ...                  0.0   \n4     192.0      0.0   18350.0  ...                  0.0   \n\n   ct_grenade_smokegrenade  t_grenade_smokegrenade  \\\n0                      0.0                     0.0   \n1                      0.0                     2.0   \n2                      0.0                     2.0   \n3                      0.0                     0.0   \n4                      0.0                     0.0   \n\n   ct_grenade_incendiarygrenade  t_grenade_incendiarygrenade  \\\n0                           0.0                          0.0   \n1                           0.0                          0.0   \n2                           0.0                          0.0   \n3                           0.0                          0.0   \n4                           0.0                          0.0   \n\n   ct_grenade_molotovgrenade  t_grenade_molotovgrenade  \\\n0                        0.0                       0.0   \n1                        0.0                       0.0   \n2                        0.0                       0.0   \n3                        0.0                       0.0   \n4                        0.0                       0.0   \n\n   ct_grenade_decoygrenade  t_grenade_decoygrenade  round_winner  \n0                      0.0                     0.0            CT  \n1                      0.0                     0.0            CT  \n2                      0.0                     0.0            CT  \n3                      0.0                     0.0            CT  \n4                      0.0                     0.0            CT  \n\n[5 rows x 97 columns]",
            "text/html": "<div>\n<style scoped>\n    .dataframe tbody tr th:only-of-type {\n        vertical-align: middle;\n    }\n\n    .dataframe tbody tr th {\n        vertical-align: top;\n    }\n\n    .dataframe thead th {\n        text-align: right;\n    }\n</style>\n<table border=\"1\" class=\"dataframe\">\n  <thead>\n    <tr style=\"text-align: right;\">\n      <th></th>\n      <th>time_left</th>\n      <th>ct_score</th>\n      <th>t_score</th>\n      <th>map</th>\n      <th>bomb_planted</th>\n      <th>ct_health</th>\n      <th>t_health</th>\n      <th>ct_armor</th>\n      <th>t_armor</th>\n      <th>ct_money</th>\n      <th>...</th>\n      <th>t_grenade_flashbang</th>\n      <th>ct_grenade_smokegrenade</th>\n      <th>t_grenade_smokegrenade</th>\n      <th>ct_grenade_incendiarygrenade</th>\n      <th>t_grenade_incendiarygrenade</th>\n      <th>ct_grenade_molotovgrenade</th>\n      <th>t_grenade_molotovgrenade</th>\n      <th>ct_grenade_decoygrenade</th>\n      <th>t_grenade_decoygrenade</th>\n      <th>round_winner</th>\n    </tr>\n  </thead>\n  <tbody>\n    <tr>\n      <th>0</th>\n      <td>175.00</td>\n      <td>0.0</td>\n      <td>0.0</td>\n      <td>de_dust2</td>\n      <td>False</td>\n      <td>500.0</td>\n      <td>500.0</td>\n      <td>0.0</td>\n      <td>0.0</td>\n      <td>4000.0</td>\n      <td>...</td>\n      <td>0.0</td>\n      <td>0.0</td>\n      <td>0.0</td>\n      <td>0.0</td>\n      <td>0.0</td>\n      <td>0.0</td>\n      <td>0.0</td>\n      <td>0.0</td>\n      <td>0.0</td>\n      <td>CT</td>\n    </tr>\n    <tr>\n      <th>1</th>\n      <td>156.03</td>\n      <td>0.0</td>\n      <td>0.0</td>\n      <td>de_dust2</td>\n      <td>False</td>\n      <td>500.0</td>\n      <td>500.0</td>\n      <td>400.0</td>\n      <td>300.0</td>\n      <td>600.0</td>\n      <td>...</td>\n      <td>0.0</td>\n      <td>0.0</td>\n      <td>2.0</td>\n      <td>0.0</td>\n      <td>0.0</td>\n      <td>0.0</td>\n      <td>0.0</td>\n      <td>0.0</td>\n      <td>0.0</td>\n      <td>CT</td>\n    </tr>\n    <tr>\n      <th>2</th>\n      <td>96.03</td>\n      <td>0.0</td>\n      <td>0.0</td>\n      <td>de_dust2</td>\n      <td>False</td>\n      <td>391.0</td>\n      <td>400.0</td>\n      <td>294.0</td>\n      <td>200.0</td>\n      <td>750.0</td>\n      <td>...</td>\n      <td>0.0</td>\n      <td>0.0</td>\n      <td>2.0</td>\n      <td>0.0</td>\n      <td>0.0</td>\n      <td>0.0</td>\n      <td>0.0</td>\n      <td>0.0</td>\n      <td>0.0</td>\n      <td>CT</td>\n    </tr>\n    <tr>\n      <th>3</th>\n      <td>76.03</td>\n      <td>0.0</td>\n      <td>0.0</td>\n      <td>de_dust2</td>\n      <td>False</td>\n      <td>391.0</td>\n      <td>400.0</td>\n      <td>294.0</td>\n      <td>200.0</td>\n      <td>750.0</td>\n      <td>...</td>\n      <td>0.0</td>\n      <td>0.0</td>\n      <td>0.0</td>\n      <td>0.0</td>\n      <td>0.0</td>\n      <td>0.0</td>\n      <td>0.0</td>\n      <td>0.0</td>\n      <td>0.0</td>\n      <td>CT</td>\n    </tr>\n    <tr>\n      <th>4</th>\n      <td>174.97</td>\n      <td>1.0</td>\n      <td>0.0</td>\n      <td>de_dust2</td>\n      <td>False</td>\n      <td>500.0</td>\n      <td>500.0</td>\n      <td>192.0</td>\n      <td>0.0</td>\n      <td>18350.0</td>\n      <td>...</td>\n      <td>0.0</td>\n      <td>0.0</td>\n      <td>0.0</td>\n      <td>0.0</td>\n      <td>0.0</td>\n      <td>0.0</td>\n      <td>0.0</td>\n      <td>0.0</td>\n      <td>0.0</td>\n      <td>CT</td>\n    </tr>\n  </tbody>\n</table>\n<p>5 rows × 97 columns</p>\n</div>"
          },
          "metadata": {}
        }
      ]
    },
    {
      "cell_type": "markdown",
      "metadata": {
        "id": "Fiw0qCJ2cqvX"
      },
      "source": [
        "Βλέπουμε ότι τα δεδομένα μας είναι 122410 και έχουν 97 χαρακτηριστικά με το κάθε ένα να έχει και το δικό της όνομα. Επίσης υπάρχουν επικεφαλίδες και αρίθμηση γραμμών για τα δεδομένα μας.\n",
        "\n",
        "Παρατηρώντας τα δεδομένα μας δεν έχουμε απουσιάζουσες τιμές στα δεδομένα μας."
      ]
    },
    {
      "cell_type": "markdown",
      "metadata": {
        "id": "Pd9bWJGecqvc"
      },
      "source": [
        "Το σύνολο δεδομένων αποτελείται από στιγμιότυπα από περίπου 700 demo από παιχνίδια υψηλού επιπέδου. Καταγράφεται ένα στιγμιότυπο γύρου κάθε 20 δευτερόλεπτα. Έχει υποστεί προεπεξεργασία για να βελτιωθεί η αναγνωσιμότητα και να διευκολυνθεί η επεξεργασία. Ο συνολικός αριθμός των στιγμιότυπων είναι 122411. Τα στιγμιότυπα είναι iid και θα πρέπει να αντιμετωπίζονται ως μεμονωμένα σημεία δεδομένων και όχι ως μέρος ενός αγώνα.\n",
        "\n",
        "Σχετικά με τα χαρακτηριστικά αυτά αφορούν το εναπομείναν χρόνο, το score, το map, την υγεία,τα όπλα, τον εξοπλισμό, καθώς και τη τελευταία στήλη-χαρακτηριστικό που είναι ο round winner.\n",
        "\n",
        "Η τελευταία αυτή στήλη περιέχει τις ετικέτες των κλάσεων.\n",
        "Εδώ έχουμε 2 (binary) κλάσεις(T, CT). "
      ]
    },
    {
      "cell_type": "code",
      "metadata": {
        "execution": {
          "iopub.status.busy": "2021-12-02T15:29:07.474677Z",
          "iopub.execute_input": "2021-12-02T15:29:07.474930Z",
          "iopub.status.idle": "2021-12-02T15:29:07.872349Z",
          "shell.execute_reply.started": "2021-12-02T15:29:07.474899Z",
          "shell.execute_reply": "2021-12-02T15:29:07.871427Z"
        },
        "trusted": true,
        "id": "y-9vG035cqvd",
        "outputId": "15397c5b-1afa-47d1-9403-366f0b379e4a"
      },
      "source": [
        "sns.histplot(data = df_data, x = 'round_winner')"
      ],
      "execution_count": null,
      "outputs": [
        {
          "execution_count": 3,
          "output_type": "execute_result",
          "data": {
            "text/plain": "<AxesSubplot:xlabel='round_winner', ylabel='Count'>"
          },
          "metadata": {}
        },
        {
          "output_type": "display_data",
          "data": {
            "text/plain": "<Figure size 432x288 with 1 Axes>",
            "image/png": "[encoded data removed]"
          },
          "metadata": {
            "needs_background": "light"
          }
        }
      ]
    },
    {
      "cell_type": "markdown",
      "metadata": {
        "id": "lZaDSE7Jcqvf"
      },
      "source": [
        "Παρατηρούμε ότι οι δύο κλάσεις είναι σχετικά ισοπληθείς. Αρα το dataset μας είναι ισορροπημενο (60%-40% σε binary datasets)."
      ]
    },
    {
      "cell_type": "code",
      "metadata": {
        "execution": {
          "iopub.status.busy": "2021-12-02T15:29:07.873956Z",
          "iopub.execute_input": "2021-12-02T15:29:07.874332Z",
          "iopub.status.idle": "2021-12-02T15:29:07.881321Z",
          "shell.execute_reply.started": "2021-12-02T15:29:07.874282Z",
          "shell.execute_reply": "2021-12-02T15:29:07.878874Z"
        },
        "trusted": true,
        "id": "4Sj_vhUDcqvf"
      },
      "source": [
        "encoder = LabelEncoder()\n",
        "scaler = StandardScaler()"
      ],
      "execution_count": null,
      "outputs": []
    },
    {
      "cell_type": "code",
      "metadata": {
        "execution": {
          "iopub.status.busy": "2021-12-02T15:29:07.884275Z",
          "iopub.execute_input": "2021-12-02T15:29:07.884818Z",
          "iopub.status.idle": "2021-12-02T15:29:08.372269Z",
          "shell.execute_reply.started": "2021-12-02T15:29:07.884753Z",
          "shell.execute_reply": "2021-12-02T15:29:08.371509Z"
        },
        "trusted": true,
        "id": "4y1bM5mgcqvh"
      },
      "source": [
        "for column in df_data.columns:\n",
        "    if len(df_data[column].unique()) == 1:\n",
        "        df_data = df_data.drop([column], axis = 1)\n",
        "        \n",
        "df_data['round_winner'] = df_data['round_winner'].replace({'T' : 0, 'CT' : 1})\n",
        "df_data['bomb_planted'] = df_data['bomb_planted'].astype(np.int16)\n",
        "y = df_data['round_winner']\n",
        "df_data = df_data.drop('round_winner', axis = 1)\n",
        "df_data['map'] = encoder.fit_transform(df_data['map'])"
      ],
      "execution_count": null,
      "outputs": []
    },
    {
      "cell_type": "code",
      "metadata": {
        "execution": {
          "iopub.status.busy": "2021-12-02T15:29:08.376120Z",
          "iopub.execute_input": "2021-12-02T15:29:08.376418Z",
          "iopub.status.idle": "2021-12-02T15:29:08.383210Z",
          "shell.execute_reply.started": "2021-12-02T15:29:08.376384Z",
          "shell.execute_reply": "2021-12-02T15:29:08.382223Z"
        },
        "trusted": true,
        "id": "e30untbUcqvl",
        "outputId": "92d18884-e52e-4a56-dbc9-e5cca554c106"
      },
      "source": [
        "print(y.shape)"
      ],
      "execution_count": null,
      "outputs": [
        {
          "name": "stdout",
          "text": "(122410,)\n",
          "output_type": "stream"
        }
      ]
    },
    {
      "cell_type": "code",
      "metadata": {
        "execution": {
          "iopub.status.busy": "2021-12-02T15:29:08.384492Z",
          "iopub.execute_input": "2021-12-02T15:29:08.384729Z",
          "iopub.status.idle": "2021-12-02T15:29:09.305177Z",
          "shell.execute_reply.started": "2021-12-02T15:29:08.384700Z",
          "shell.execute_reply": "2021-12-02T15:29:09.304316Z"
        },
        "trusted": true,
        "id": "7LaoGByFcqvm",
        "outputId": "b97cce56-d3ee-403e-b59e-37c326777ca0"
      },
      "source": [
        "zeros_values = 0\n",
        "ones_values = 0\n",
        "missing_values = 0\n",
        "for i in range (122410):\n",
        "  if (y[i] == 0):\n",
        "    zeros_values += 1\n",
        "  elif (y[i] ==1):\n",
        "    ones_values += 1\n",
        "  else:\n",
        "    missing_values += 1\n",
        "    \n",
        "print(\"Πλήθος δειγμάτων της κλασης 0:\", zeros_values)\n",
        "print(\"Πλήθος δειγμάτων της κλασης 1:\", ones_values)\n",
        "print(\"Πλήθος απουσιαζουσών τιμών:\", missing_values)\n",
        "\n",
        "print(\"Ποσοστό δειγμάτων της κλάσης 0(στα συνολικά δείγματα):\", zeros_values/122410*100, \"%\")\n",
        "print(\"Ποσοστό δειγμάτων της κλάσης 1(στα συνολικά δείγματα):\", ones_values/122410*100, \"%\")"
      ],
      "execution_count": null,
      "outputs": [
        {
          "name": "stdout",
          "text": "Πλήθος δειγμάτων της κλασης 0: 62406\nΠλήθος δειγμάτων της κλασης 1: 60004\nΠλήθος απουσιαζουσών τιμών: 0\nΠοσοστό δειγμάτων της κλάσης 0(στα συνολικά δείγματα): 50.98112899272935 %\nΠοσοστό δειγμάτων της κλάσης 1(στα συνολικά δείγματα): 49.01887100727065 %\n",
          "output_type": "stream"
        }
      ]
    },
    {
      "cell_type": "markdown",
      "metadata": {
        "id": "W9NPdgGCcqvm"
      },
      "source": [
        "Εδώ χωρίζουμε τα δεδομένα μας σε train και test."
      ]
    },
    {
      "cell_type": "code",
      "metadata": {
        "execution": {
          "iopub.status.busy": "2021-12-02T15:29:09.306396Z",
          "iopub.execute_input": "2021-12-02T15:29:09.306633Z",
          "iopub.status.idle": "2021-12-02T15:29:09.689073Z",
          "shell.execute_reply.started": "2021-12-02T15:29:09.306605Z",
          "shell.execute_reply": "2021-12-02T15:29:09.688196Z"
        },
        "trusted": true,
        "id": "lkCEVtEGcqvn"
      },
      "source": [
        "X = pd.DataFrame(scaler.fit_transform(df_data), columns = df_data.columns)\n",
        "X_train, X_test, y_train, y_test = train_test_split(X, y, shuffle = True, train_size = 0.7)"
      ],
      "execution_count": null,
      "outputs": []
    },
    {
      "cell_type": "markdown",
      "metadata": {
        "id": "c2mSPRqIcqvo"
      },
      "source": [
        "Εδώ βλέπουμε πόσα είναι τα δεδομένα εκπάιδευσης και πόσα τα δεδομένα ελέγχου"
      ]
    },
    {
      "cell_type": "code",
      "metadata": {
        "execution": {
          "iopub.status.busy": "2021-12-02T15:29:09.690321Z",
          "iopub.execute_input": "2021-12-02T15:29:09.690707Z",
          "iopub.status.idle": "2021-12-02T15:29:09.698051Z",
          "shell.execute_reply.started": "2021-12-02T15:29:09.690645Z",
          "shell.execute_reply": "2021-12-02T15:29:09.696996Z"
        },
        "trusted": true,
        "id": "ARvzoju0cqvo",
        "outputId": "ab68b0c8-3fdd-48cd-d4e0-a8c248ddc2c4"
      },
      "source": [
        "print(X_train.shape)\n",
        "print(y_train.shape)\n",
        "print(X_test.shape)\n",
        "print(y_test.shape)"
      ],
      "execution_count": null,
      "outputs": [
        {
          "name": "stdout",
          "text": "(85687, 90)\n(85687,)\n(36723, 90)\n(36723,)\n",
          "output_type": "stream"
        }
      ]
    },
    {
      "cell_type": "markdown",
      "metadata": {
        "id": "wENcr38Ecqvp"
      },
      "source": [
        "## ESTIMATORS"
      ]
    },
    {
      "cell_type": "markdown",
      "metadata": {
        "id": "NNAsLRdpcqvp"
      },
      "source": [
        "Η μέθοδος SVM είναι ευέλικτη μέθοδος εποπτευόμενης μηχανικής εκμάθησης που χρησιμοποιείται για ταξινόμηση, παλινδρόμηση και ανίχνευση ακραίων τιμών. Τα SVM είναι πολύ αποτελεσματικά σε χώρους υψηλών διαστάσεων. Είναι δημοφιλή και αποδοτικά στη μνήμη επειδή χρησιμοποιούν ένα υποσύνολο σημείων εκπαίδευσης στη συνάρτηση απόφασης.\n",
        "\n",
        "Ο κύριος στόχος των SVM είναι να χωρίσουν τα σύνολα δεδομένων σε κλάσεις προκειμένου να βρεθεί ένα μέγιστο οριακό υπερεπίπεδο.\n",
        "\n",
        "Εμείς εδώ θα χρησιμοποιήσουμε τον SVC estimator."
      ]
    },
    {
      "cell_type": "code",
      "metadata": {
        "execution": {
          "iopub.status.busy": "2021-12-02T15:55:19.703162Z",
          "iopub.execute_input": "2021-12-02T15:55:19.703495Z",
          "iopub.status.idle": "2021-12-02T15:55:19.707777Z",
          "shell.execute_reply.started": "2021-12-02T15:55:19.703459Z",
          "shell.execute_reply": "2021-12-02T15:55:19.706797Z"
        },
        "trusted": true,
        "id": "M4ETN-3_cqvq"
      },
      "source": [
        "from sklearn.svm import SVC\n",
        "from sklearn.metrics import classification_report\n",
        "from sklearn.neural_network import MLPClassifier"
      ],
      "execution_count": null,
      "outputs": []
    },
    {
      "cell_type": "code",
      "metadata": {
        "execution": {
          "iopub.status.busy": "2021-12-02T15:55:21.614695Z",
          "iopub.execute_input": "2021-12-02T15:55:21.615035Z",
          "iopub.status.idle": "2021-12-02T16:27:11.815000Z",
          "shell.execute_reply.started": "2021-12-02T15:55:21.614997Z",
          "shell.execute_reply": "2021-12-02T16:27:11.814072Z"
        },
        "trusted": true,
        "id": "_aLGC0C0cqvq"
      },
      "source": [
        "svc = SVC()\n",
        "svc.fit(X_train,y_train)\n",
        "pred_SVM = svc.predict(X_test)"
      ],
      "execution_count": null,
      "outputs": []
    },
    {
      "cell_type": "markdown",
      "metadata": {
        "id": "O-f8g0nFcqvr"
      },
      "source": [
        "Και παρακάτω βλέπουμετο score που πετυχαινεί ο παραπάνω ταξινομητής.\n",
        "\n",
        "κάνουμε χρήση των μετρικών precision, recall και f1-score."
      ]
    },
    {
      "cell_type": "markdown",
      "metadata": {
        "id": "0_uLB4u8cqvr"
      },
      "source": [
        "## Precision\n",
        "\n",
        "Ακρίβεια -Precision- ($P$) είναι ο λόγος των true positives ($T_p$) ως προς τον αριθμό των true positives συν τον αριθμό των false positives ($F_p$).\n",
        "$$P = \\frac{T_p}{T_p+F_p}$$"
      ]
    },
    {
      "cell_type": "markdown",
      "metadata": {
        "id": "A6oAm7NAcqvs"
      },
      "source": [
        "## Recall\n",
        "\n",
        "Ανάκληση -Recall- ($R$) είναι ο λόγος των true positives ($T_p$) ως προς τον αριθμό των true positives συν τον αριθμό των false negatives ($F_n$).\n",
        "$$R = \\frac{T_p}{T_p + F_n}$$"
      ]
    },
    {
      "cell_type": "markdown",
      "metadata": {
        "id": "dea_29e-cqvs"
      },
      "source": [
        "## f1-score\n",
        "\n",
        "Xρησιμοποιούμε και το ($F_1$) score, το οποίο είναι ο αρμονικός μέσος της ακρίβειας και της ανάκλησης.\n",
        "$$F1 = 2\\frac{P \\times R}{P+R}$$"
      ]
    },
    {
      "cell_type": "code",
      "metadata": {
        "execution": {
          "iopub.status.busy": "2021-12-02T16:37:39.468807Z",
          "iopub.execute_input": "2021-12-02T16:37:39.469204Z",
          "iopub.status.idle": "2021-12-02T16:37:39.543059Z",
          "shell.execute_reply.started": "2021-12-02T16:37:39.469156Z",
          "shell.execute_reply": "2021-12-02T16:37:39.541686Z"
        },
        "trusted": true,
        "id": "4vLp5EZ0cqvt",
        "outputId": "9f3cc70b-94dc-42a3-c011-9a9b38555a52"
      },
      "source": [
        "print(classification_report(y_test, pred_SVM))"
      ],
      "execution_count": null,
      "outputs": [
        {
          "name": "stdout",
          "text": "              precision    recall  f1-score   support\n\n           0       0.83      0.73      0.78     18768\n           1       0.75      0.84      0.79     17955\n\n    accuracy                           0.79     36723\n   macro avg       0.79      0.79      0.79     36723\nweighted avg       0.79      0.79      0.79     36723\n\n",
          "output_type": "stream"
        }
      ]
    },
    {
      "cell_type": "markdown",
      "metadata": {
        "id": "3AI4gfVycqvt"
      },
      "source": [
        "Ιδανικά θέλουμε και υψηλή ακρίβεια και υψηλή ανάκληση, ωστόσο μεταξύ της ακρίβειας και της ανάκλησης υπάρχει γενικά trade-off.\n",
        "Γενικά, κατεβάζοντας το κατώφλι της απόφασης του ταξινομητή, αυξάνουμε την ανάκληση και μειώνουμε την ακρίβεια και αντιστρόφως."
      ]
    },
    {
      "cell_type": "markdown",
      "metadata": {
        "id": "bR9S1D4Ucqvu"
      },
      "source": [
        "## Multi Layer Perceptron (MLP)\n",
        "Ο MLPClassifier είναι ένας ταξινομητής Perceptron πολλαπλών επιπέδων. Σε αντίθεση με άλλους αλγόριθμους ταξινόμησης, όπως το Support Vectors ή ο Naive Bayes Classifier, ο MLPClassifier βασίζεται σε ένα υποκείμενο νευρωνικό δίκτυο για να εκτελέσει την ταξινόμηση.\n",
        "\n",
        "Ωστόσο, μια ομοιότητα με τους άλλους αλγόριθμους ταξινόμησης του Scikit-Learn είναι ότι η υλοποίηση του MLPClassifier δεν απαιτεί περισσότερη προσπάθεια από τις άλλες μεθόδους."
      ]
    },
    {
      "cell_type": "code",
      "metadata": {
        "execution": {
          "iopub.status.busy": "2021-12-02T16:37:43.846366Z",
          "iopub.execute_input": "2021-12-02T16:37:43.847414Z",
          "iopub.status.idle": "2021-12-02T16:42:10.454573Z",
          "shell.execute_reply.started": "2021-12-02T16:37:43.847359Z",
          "shell.execute_reply": "2021-12-02T16:42:10.453425Z"
        },
        "_kg_hide-output": true,
        "collapsed": true,
        "jupyter": {
          "outputs_hidden": true
        },
        "trusted": true,
        "id": "OyrDScQRcqvu",
        "outputId": "f1d130de-c19d-4dde-a7db-ca90dc2b142f"
      },
      "source": [
        "mlp = MLPClassifier()\n",
        "mlp.fit(X_train, y_train)\n",
        "prediction_MLP = mlp.predict(X_test)"
      ],
      "execution_count": null,
      "outputs": [
        {
          "name": "stderr",
          "text": "/opt/conda/lib/python3.7/site-packages/sklearn/neural_network/_multilayer_perceptron.py:585: ConvergenceWarning: Stochastic Optimizer: Maximum iterations (200) reached and the optimization hasn't converged yet.\n  % self.max_iter, ConvergenceWarning)\n",
          "output_type": "stream"
        }
      ]
    },
    {
      "cell_type": "markdown",
      "metadata": {
        "id": "HOQA4emBcqvu"
      },
      "source": [
        "Βλέπουμε τα αποτελέσματα και για τον MLP classifier"
      ]
    },
    {
      "cell_type": "code",
      "metadata": {
        "execution": {
          "iopub.status.busy": "2021-12-02T16:42:10.583574Z",
          "iopub.execute_input": "2021-12-02T16:42:10.583974Z",
          "iopub.status.idle": "2021-12-02T16:42:10.655949Z",
          "shell.execute_reply.started": "2021-12-02T16:42:10.583941Z",
          "shell.execute_reply": "2021-12-02T16:42:10.655035Z"
        },
        "trusted": true,
        "id": "mW9zkbmgcqvu",
        "outputId": "6f4f59a5-f0f2-49c1-8a4c-beabcb9f7370"
      },
      "source": [
        "print(classification_report(y_test, prediction_MLP))"
      ],
      "execution_count": null,
      "outputs": [
        {
          "name": "stdout",
          "text": "              precision    recall  f1-score   support\n\n           0       0.81      0.78      0.80     18768\n           1       0.78      0.81      0.79     17955\n\n    accuracy                           0.80     36723\n   macro avg       0.80      0.80      0.80     36723\nweighted avg       0.80      0.80      0.80     36723\n\n",
          "output_type": "stream"
        }
      ]
    },
    {
      "cell_type": "markdown",
      "metadata": {
        "id": "hTqNJ1Epcqvv"
      },
      "source": [
        "## Βελτιστοποιηση"
      ]
    },
    {
      "cell_type": "markdown",
      "metadata": {
        "id": "I-gL3xp2cqvw"
      },
      "source": [
        "## 1. προεπεξεργασιαα"
      ]
    },
    {
      "cell_type": "markdown",
      "metadata": {
        "id": "cIaSIwKBcqvw"
      },
      "source": [
        "Αρχικά κάνουμε μείωση των χαρακτηριστικών εισόδου και βλέπουμε ποιά χαρακτηριστικά κρατάμε και ποιά όχι. \n",
        "Μετά από μια προσαρμογή του κατωφλίου κάνουμε κανονικοποίηση των χαρακτηριστικών και εξισσοροπούμε το training set με oversampling."
      ]
    },
    {
      "cell_type": "code",
      "metadata": {
        "execution": {
          "iopub.status.busy": "2021-12-02T16:42:10.657822Z",
          "iopub.execute_input": "2021-12-02T16:42:10.658065Z",
          "iopub.status.idle": "2021-12-02T16:42:10.662282Z",
          "shell.execute_reply.started": "2021-12-02T16:42:10.658036Z",
          "shell.execute_reply": "2021-12-02T16:42:10.661446Z"
        },
        "trusted": true,
        "id": "EVaA0en8cqvw"
      },
      "source": [
        "from sklearn.feature_selection import VarianceThreshold\n",
        "from sklearn import preprocessing\n",
        "from imblearn.over_sampling import RandomOverSampler"
      ],
      "execution_count": null,
      "outputs": []
    },
    {
      "cell_type": "code",
      "metadata": {
        "execution": {
          "iopub.status.busy": "2021-12-02T16:42:10.806111Z",
          "iopub.execute_input": "2021-12-02T16:42:10.806429Z",
          "iopub.status.idle": "2021-12-02T16:42:10.970664Z",
          "shell.execute_reply.started": "2021-12-02T16:42:10.806396Z",
          "shell.execute_reply": "2021-12-02T16:42:10.969651Z"
        },
        "trusted": true,
        "id": "8_MoB4Aucqvx"
      },
      "source": [
        "selector = VarianceThreshold() # default threshold = 0\n",
        "X_train_reduced = selector.fit_transform(X_train)\n",
        "mask = selector.get_support()\n",
        "X_test_reduced = selector.transform(X_test)"
      ],
      "execution_count": null,
      "outputs": []
    },
    {
      "cell_type": "code",
      "metadata": {
        "execution": {
          "iopub.status.busy": "2021-12-02T16:42:10.972234Z",
          "iopub.execute_input": "2021-12-02T16:42:10.972718Z",
          "iopub.status.idle": "2021-12-02T16:42:11.116806Z",
          "shell.execute_reply.started": "2021-12-02T16:42:10.972681Z",
          "shell.execute_reply": "2021-12-02T16:42:11.116048Z"
        },
        "trusted": true,
        "id": "ZITbiKCccqvx",
        "outputId": "ed7bfdf5-7cfb-4118-9674-d874a556c207"
      },
      "source": [
        "selector = VarianceThreshold(threshold=0.00005)\n",
        "X_train_reduced = selector.fit_transform(X_train)\n",
        "print(X_train.shape)\n",
        "print(X_train_reduced.shape)\n",
        "mask = selector.get_support()\n",
        "X_test_reduced = selector.transform(X_test)\n",
        "print(X_test_reduced.shape)"
      ],
      "execution_count": null,
      "outputs": [
        {
          "name": "stdout",
          "text": "(85687, 90)\n(85687, 90)\n(36723, 90)\n",
          "output_type": "stream"
        }
      ]
    },
    {
      "cell_type": "code",
      "metadata": {
        "execution": {
          "iopub.status.busy": "2021-12-02T16:42:11.118165Z",
          "iopub.execute_input": "2021-12-02T16:42:11.118640Z",
          "iopub.status.idle": "2021-12-02T16:42:11.333581Z",
          "shell.execute_reply.started": "2021-12-02T16:42:11.118591Z",
          "shell.execute_reply": "2021-12-02T16:42:11.332369Z"
        },
        "trusted": true,
        "id": "7vgkvbxCcqvz",
        "outputId": "cabbee2f-743d-428f-fa2f-c301fa197552"
      },
      "source": [
        "scaler = preprocessing.StandardScaler().fit(X_train_reduced)\n",
        "X_train_scaled = scaler.transform(X_train_reduced)\n",
        "X_test_scaled = scaler.transform(X_test_reduced)\n",
        "summ = X_train_scaled.T.sum(axis=1)\n",
        "print(summ)"
      ],
      "execution_count": null,
      "outputs": [
        {
          "name": "stdout",
          "text": "[ 1.67688086e-12 -1.38555833e-13  5.71276360e-12  2.09610107e-12\n  2.73558953e-12 -5.79092330e-13  3.58113539e-12 -2.96296321e-12\n  5.93480820e-12 -1.29318778e-12  1.87583282e-12 -3.46744855e-12\n -1.01252340e-13  4.87432317e-12  6.51922960e-13 -9.66338121e-13\n -6.46238618e-12 -1.13686838e-13 -2.40873987e-12 -3.53850282e-12\n -2.21689334e-12  2.68940425e-12 -2.98427949e-13  5.74118530e-12\n  8.41993142e-12  7.10542736e-13 -1.49924517e-12 -6.05382411e-12\n -3.27204930e-12  6.53699317e-13 -1.51345603e-12 -3.51008111e-12\n  4.68958206e-12  2.82796009e-12  3.55271368e-15 -7.00595137e-12\n  4.20641300e-12 -2.27373675e-13  7.36122274e-12  2.71427325e-12\n  2.30926389e-12 -2.16715534e-12 -7.28306304e-13 -1.58095759e-12\n -6.03961325e-13 -2.45137244e-12 -1.98951966e-12  2.10320650e-12\n -3.54560825e-12 -1.38555833e-13 -2.34479103e-13 -3.05533376e-13\n -1.63424829e-13 -1.27897692e-13 -3.55271368e-13 -1.28608235e-12\n  3.16902060e-12 -5.32907052e-14 -2.06767936e-12  3.22586402e-12\n -4.68958206e-12  1.64845915e-12 -1.82609483e-12 -6.78213041e-12\n -3.89377419e-12 -1.08002496e-12  1.27897692e-13 -3.92219590e-12\n  1.06581410e-12 -2.34479103e-12 -5.70921088e-12 -6.65068001e-12\n  7.33990646e-12  2.72848411e-12  6.33448849e-12 -4.26325641e-13\n -9.09494702e-13 -6.23501251e-12  1.09423581e-12  3.08375547e-12\n -4.83169060e-12 -5.05195885e-12 -6.11066753e-13  1.20436994e-12\n -4.19220214e-13  6.82121026e-13  2.89901436e-12 -3.12638804e-13\n -5.43565193e-12 -2.61479727e-12]\n",
          "output_type": "stream"
        }
      ]
    },
    {
      "cell_type": "code",
      "metadata": {
        "execution": {
          "iopub.status.busy": "2021-12-02T16:42:11.335715Z",
          "iopub.execute_input": "2021-12-02T16:42:11.336507Z",
          "iopub.status.idle": "2021-12-02T16:42:11.519640Z",
          "shell.execute_reply.started": "2021-12-02T16:42:11.336435Z",
          "shell.execute_reply": "2021-12-02T16:42:11.518226Z"
        },
        "trusted": true,
        "id": "TocvXD9rcqvz",
        "outputId": "308dcf69-1972-494d-ab61-caa75086f0ad"
      },
      "source": [
        "ros = RandomOverSampler()\n",
        "X_train_resampled, y_train_resampled = ros.fit_resample(X_train_scaled, y_train)\n",
        "print(X_train.shape)\n",
        "print(X_train_resampled.shape)\n",
        "print(y_train_resampled.shape)\n",
        "summ = X_train_resampled.T.sum(axis=1)\n",
        "print(summ) #πλήθος ανα κλάση "
      ],
      "execution_count": null,
      "outputs": [
        {
          "name": "stdout",
          "text": "(85687, 90)\n(87276, 90)\n(87276,)\n[ 128.54322672   75.15137119  -43.2792886    63.20008289 -290.71407139\n  316.39510431 -143.28084534  528.53163095 -475.18031056  166.89752608\n -167.30292417  466.12207563 -516.55853638  488.34699404  360.50050812\n -223.27497226  217.65861501 -371.54831976  167.72753961  -86.50852238\n  365.51243805 -247.44503462  -13.29710993  -51.1051222    66.22110975\n   92.3106497    -0.9439001   -16.63846066  -72.9295494    18.4554297\n  140.68837709 -122.71543211  -17.25753789 -124.8833872    -5.42836401\n  109.69110366  -47.24680828  307.95517874 -142.55402578  -65.09577795\n -120.45674276  -75.31477864   -7.6769108    16.7632381   -79.37973726\n  -28.73755217    3.82954451  119.97550545 -100.0764583    -5.42836401\n   14.13292831  -17.16689582   51.47233124  -18.00489731  -13.29710993\n  -20.31261924   31.62053303   -5.42836401  220.24244995 -256.36926107\n  -44.63586355   14.41074631  -45.5260741  -147.05506449   -3.7154416\n  -27.14562196  -83.87784603   30.91850559  -87.96758557  -18.18246471\n  298.84571466 -190.9026807   108.32050642  -32.39168934   41.0863913\n  -67.29124754   -2.69017759  -23.66296844  245.91785657 -213.78635873\n  390.28445696 -298.84077982  328.79764763 -285.27473282  274.26968591\n -108.87852347  108.86316561 -215.20771817   73.95354413   11.93717872]\n",
          "output_type": "stream"
        }
      ]
    },
    {
      "cell_type": "markdown",
      "metadata": {
        "id": "IX6HH2-tcqv0"
      },
      "source": [
        "## MLP"
      ]
    },
    {
      "cell_type": "code",
      "metadata": {
        "execution": {
          "iopub.status.busy": "2021-12-02T17:19:23.183484Z",
          "iopub.execute_input": "2021-12-02T17:19:23.183746Z",
          "iopub.status.idle": "2021-12-02T17:22:44.262098Z",
          "shell.execute_reply.started": "2021-12-02T17:19:23.183717Z",
          "shell.execute_reply": "2021-12-02T17:22:44.261265Z"
        },
        "collapsed": true,
        "jupyter": {
          "outputs_hidden": true
        },
        "trusted": true,
        "id": "q4522FnZcqv0",
        "outputId": "24e95af3-1ce6-446d-fb62-5d2ec5e45a70"
      },
      "source": [
        "#mlp = MLPClassifier()\n",
        "mlp.fit(X_train_resampled, y_train_resampled)\n",
        "prediction_MLP_2 = mlp.predict(X_test_scaled)"
      ],
      "execution_count": null,
      "outputs": [
        {
          "name": "stderr",
          "text": "/opt/conda/lib/python3.7/site-packages/sklearn/neural_network/_multilayer_perceptron.py:585: ConvergenceWarning: Stochastic Optimizer: Maximum iterations (200) reached and the optimization hasn't converged yet.\n  % self.max_iter, ConvergenceWarning)\n",
          "output_type": "stream"
        }
      ]
    },
    {
      "cell_type": "code",
      "metadata": {
        "execution": {
          "iopub.status.busy": "2021-12-02T17:22:44.530058Z",
          "iopub.execute_input": "2021-12-02T17:22:44.530349Z",
          "iopub.status.idle": "2021-12-02T17:22:44.597148Z",
          "shell.execute_reply.started": "2021-12-02T17:22:44.530317Z",
          "shell.execute_reply": "2021-12-02T17:22:44.596266Z"
        },
        "trusted": true,
        "id": "jhmhccW4cqv0",
        "outputId": "ce6f7a4c-9a29-43eb-d439-ac83d752444f"
      },
      "source": [
        "print(classification_report(y_test, prediction_MLP_2))"
      ],
      "execution_count": null,
      "outputs": [
        {
          "name": "stdout",
          "text": "              precision    recall  f1-score   support\n\n           0       0.80      0.80      0.80     18768\n           1       0.79      0.79      0.79     17955\n\n    accuracy                           0.80     36723\n   macro avg       0.80      0.80      0.80     36723\nweighted avg       0.80      0.80      0.80     36723\n\n",
          "output_type": "stream"
        }
      ]
    },
    {
      "cell_type": "markdown",
      "metadata": {
        "id": "4il1hkW9cqv0"
      },
      "source": [
        "## SVC"
      ]
    },
    {
      "cell_type": "code",
      "metadata": {
        "execution": {
          "iopub.status.busy": "2021-12-02T17:24:40.297522Z",
          "iopub.execute_input": "2021-12-02T17:24:40.297838Z",
          "iopub.status.idle": "2021-12-02T17:53:34.881024Z",
          "shell.execute_reply.started": "2021-12-02T17:24:40.297796Z",
          "shell.execute_reply": "2021-12-02T17:53:34.880192Z"
        },
        "trusted": true,
        "id": "IqAm6dsocqv1"
      },
      "source": [
        "#svc = SVC()\n",
        "svc.fit(X_train_resampled,y_train_resampled)\n",
        "prediction_SVM_2 = svc.predict(X_test_scaled)"
      ],
      "execution_count": null,
      "outputs": []
    },
    {
      "cell_type": "code",
      "metadata": {
        "execution": {
          "iopub.status.busy": "2021-12-02T17:53:35.021588Z",
          "iopub.execute_input": "2021-12-02T17:53:35.021898Z",
          "iopub.status.idle": "2021-12-02T17:53:35.089698Z",
          "shell.execute_reply.started": "2021-12-02T17:53:35.021869Z",
          "shell.execute_reply": "2021-12-02T17:53:35.088102Z"
        },
        "trusted": true,
        "id": "AvGbW6r_cqv1",
        "outputId": "59aca163-790f-4979-d04f-0fc37e12c0cc"
      },
      "source": [
        "print(classification_report(y_test, prediction_SVM_2))"
      ],
      "execution_count": null,
      "outputs": [
        {
          "name": "stdout",
          "text": "              precision    recall  f1-score   support\n\n           0       0.84      0.72      0.77     18768\n           1       0.74      0.86      0.80     17955\n\n    accuracy                           0.79     36723\n   macro avg       0.79      0.79      0.79     36723\nweighted avg       0.79      0.79      0.79     36723\n\n",
          "output_type": "stream"
        }
      ]
    },
    {
      "cell_type": "markdown",
      "metadata": {
        "id": "Sojd6o93cqv1"
      },
      "source": [
        "## 2. pipeline"
      ]
    },
    {
      "cell_type": "code",
      "metadata": {
        "execution": {
          "iopub.status.busy": "2021-12-02T17:53:48.332663Z",
          "iopub.execute_input": "2021-12-02T17:53:48.332962Z",
          "iopub.status.idle": "2021-12-02T17:53:48.339584Z",
          "shell.execute_reply.started": "2021-12-02T17:53:48.332930Z",
          "shell.execute_reply": "2021-12-02T17:53:48.338985Z"
        },
        "trusted": true,
        "id": "JgNCjvYkcqv1"
      },
      "source": [
        "def make_pipeline(classifier, X_train, y_train, X_test, y_test):\n",
        "  selector = VarianceThreshold()\n",
        "  scaler = StandardScaler()\n",
        "  ros = RandomOverSampler()\n",
        "  pca = PCA()\n",
        "  classifier = Pipeline(steps=[('selector', selector), ('scaler', scaler), ('sampler', ros), ('pca', pca), ('classifier', classifier)])\n",
        "  classifier.fit(X_train,y_train)\n",
        "  y_pred = classifier.predict(X_test)\n",
        "  print(str(classifier),classifier.score(X_test,y_test))\n",
        "  print(classification_report(y_test, y_pred))\n",
        "  #print(\"f1 macro score =\",f1_score(y_test, y_pred, average='macro'))\n",
        "  #print(\"accuracy score =\",accuracy_score(y_test, y_pred))\n",
        "  return classifier"
      ],
      "execution_count": null,
      "outputs": []
    },
    {
      "cell_type": "code",
      "metadata": {
        "execution": {
          "iopub.status.busy": "2021-12-02T17:53:51.409843Z",
          "iopub.execute_input": "2021-12-02T17:53:51.410308Z",
          "iopub.status.idle": "2021-12-02T18:31:23.046097Z",
          "shell.execute_reply.started": "2021-12-02T17:53:51.410270Z",
          "shell.execute_reply": "2021-12-02T18:31:23.045089Z"
        },
        "trusted": true,
        "id": "dPV_iJuHcqv1",
        "outputId": "b5d535b9-b3b4-4193-9944-b3147ccca34c"
      },
      "source": [
        "#clf = MLPClassifier()\n",
        "pipe_1 = make_pipeline(mlp, X_train, y_train, X_test, y_test)\n",
        "#clf = SVC()\n",
        "pipe_2 = make_pipeline(svc, X_train, y_train, X_test, y_test)"
      ],
      "execution_count": null,
      "outputs": [
        {
          "name": "stderr",
          "text": "/opt/conda/lib/python3.7/site-packages/sklearn/neural_network/_multilayer_perceptron.py:585: ConvergenceWarning: Stochastic Optimizer: Maximum iterations (200) reached and the optimization hasn't converged yet.\n  % self.max_iter, ConvergenceWarning)\n",
          "output_type": "stream"
        },
        {
          "name": "stdout",
          "text": "Pipeline(steps=[('selector', VarianceThreshold()), ('scaler', StandardScaler()),\n                ('sampler', RandomOverSampler()), ('pca', PCA()),\n                ('classifier', MLPClassifier())]) 0.7960678593796803\n              precision    recall  f1-score   support\n\n           0       0.80      0.80      0.80     18768\n           1       0.79      0.80      0.79     17955\n\n    accuracy                           0.80     36723\n   macro avg       0.80      0.80      0.80     36723\nweighted avg       0.80      0.80      0.80     36723\n\nPipeline(steps=[('selector', VarianceThreshold()), ('scaler', StandardScaler()),\n                ('sampler', RandomOverSampler()), ('pca', PCA()),\n                ('classifier', SVC())]) 0.7856384282329875\n              precision    recall  f1-score   support\n\n           0       0.84      0.72      0.77     18768\n           1       0.74      0.86      0.80     17955\n\n    accuracy                           0.79     36723\n   macro avg       0.79      0.79      0.79     36723\nweighted avg       0.79      0.79      0.78     36723\n\n",
          "output_type": "stream"
        }
      ]
    },
    {
      "cell_type": "markdown",
      "metadata": {
        "id": "6JmLaq4-cqv1"
      },
      "source": [
        "## ευρεση βελτιστων υπερπαραμετρων"
      ]
    },
    {
      "cell_type": "code",
      "metadata": {
        "execution": {
          "iopub.status.busy": "2021-12-02T19:12:21.099696Z",
          "iopub.execute_input": "2021-12-02T19:12:21.100274Z"
        },
        "trusted": true,
        "id": "88jNitQJcqv2",
        "outputId": "ab8d5e29-17e5-482e-be4f-bd4480197af9"
      },
      "source": [
        "\n",
        "from sklearn.model_selection import GridSearchCV\n",
        "\n",
        "param_grid = {'C': [0.1,1, 10, 100], 'gamma': [1,0.1,0.01,0.001],'kernel': ['rbf', 'poly', 'sigmoid']}\n",
        "\n",
        "\n",
        "grid = GridSearchCV(SVC(),param_grid,refit=True,verbose=2)\n",
        "\n",
        "\n",
        "grid.fit(X_train_resampled, y_train_resampled)\n",
        "grid.predict(X_test_scaled)\n",
        "\n",
        "print(grid.best_estimator_)\n"
      ],
      "execution_count": null,
      "outputs": [
        {
          "name": "stdout",
          "text": "Fitting 5 folds for each of 48 candidates, totalling 240 fits\n[CV] C=0.1, gamma=1, kernel=rbf ......................................\n",
          "output_type": "stream"
        },
        {
          "name": "stderr",
          "text": "[Parallel(n_jobs=1)]: Using backend SequentialBackend with 1 concurrent workers.\n",
          "output_type": "stream"
        },
        {
          "name": "stdout",
          "text": "[CV] ....................... C=0.1, gamma=1, kernel=rbf, total=21.7min\n[CV] C=0.1, gamma=1, kernel=rbf ......................................\n",
          "output_type": "stream"
        },
        {
          "name": "stderr",
          "text": "[Parallel(n_jobs=1)]: Done   1 out of   1 | elapsed: 21.7min remaining:    0.0s\n",
          "output_type": "stream"
        },
        {
          "name": "stdout",
          "text": "[CV] ....................... C=0.1, gamma=1, kernel=rbf, total=21.6min\n[CV] C=0.1, gamma=1, kernel=rbf ......................................\n",
          "output_type": "stream"
        }
      ]
    },
    {
      "cell_type": "code",
      "metadata": {
        "execution": {
          "iopub.status.busy": "2021-12-02T19:12:02.182163Z",
          "iopub.status.idle": "2021-12-02T19:12:02.182509Z",
          "shell.execute_reply.started": "2021-12-02T19:12:02.182319Z",
          "shell.execute_reply": "2021-12-02T19:12:02.182343Z"
        },
        "trusted": true,
        "id": "aly9Hxkpcqv2"
      },
      "source": [
        "\n",
        "mlp_param_grid ={'hidden_layer_sizes': [(100),(50,50),(25,25)], 'solver': ['sgd', 'adam'], 'learning_rate': ['constant','adaptive']}\n",
        "mlp_grid = GridSearchCV(MLPClassifier(),mlp_param_grid,refit=True,verbose=2)\n",
        "mlp_grid.fit(x_train_resampled, y_train_resampled)\n",
        "mlp_grid.predict(x_test_scaled)\n",
        "print(mlp_grid.best_estimator_)\n"
      ],
      "execution_count": null,
      "outputs": []
    },
    {
      "cell_type": "markdown",
      "metadata": {
        "id": "Qy3AICnEcqv2"
      },
      "source": [
        "Βλέπουμε ότι παρά τις βελτιστοποιήσεις έχουμε σχεδόν τα ίδια αποτελέσματα και στους 2 ταξινομητες και σε αντιθεση με πριν δεν έχουμε αισθητές διαφορές."
      ]
    }
  ]
}