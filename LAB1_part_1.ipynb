{
  "nbformat": 4,
  "nbformat_minor": 0,
  "metadata": {
    "colab": {
      "name": "LAB1_part_1.ipynb",
      "provenance": [],
      "collapsed_sections": [
        "hYlqIj5RM460",
        "-Ipu-RvVM8vW"
      ]
    },
    "kernelspec": {
      "name": "python3",
      "display_name": "Python 3"
    },
    "language_info": {
      "name": "python"
    }
  },
  "cells": [
    {
      "cell_type": "markdown",
      "metadata": {
        "id": "aBOzq062gyRb"
      },
      "source": [
        "Αϊβαλής Θεόδωρος 03117099\n",
        "\n",
        "Σαλιαράκης Παύλος 03117135"
      ]
    },
    {
      "cell_type": "markdown",
      "metadata": {
        "id": "RJ9dYFtsRmWU"
      },
      "source": [
        "##ΕΙΣΑΓΩΓΗ"
      ]
    },
    {
      "cell_type": "markdown",
      "metadata": {
        "id": "QSFu8gZCRqtC"
      },
      "source": [
        "Στόχος της εργασίας είναι η μελέτη και βελτιστοποίηση ταξινομητών σε σύνολα δεδομένων. Θα μελετήσουμε δύο datasets, ένα από το αποθετήριο UCI και ένα από την πλατφόρμα Kaggle.\n",
        "\n",
        "Η εκπαιδευση και βελτιστοποίηση των ταξινομητών στο UCI dataset θα γίνει αποκλειστικά με τις συναρτήσεις του skicit-learn ενώ στο Kaggle dataset θα πρέπει να χρησιμοποιήσετε μια βιβλιοθήκη βελτιστοποίησης.\n",
        "\n",
        "Υπάρχουν 14 διαφορετικά UCI datasets (U01-U14) και 14 διαφορετικά Kaggle datasets (K01-K14). Στην ομάδα μας αντιστοιχεί ένας μοναδικός συνδυασμός U-K datasets. Τα δικά μας datasets είναι: U01 & K14\n",
        "\n",
        "Το U01 είναι ένα Echocardiogram Data Set και το Κ14 είναι CS:GO Round Winner Classification."
      ]
    },
    {
      "cell_type": "code",
      "metadata": {
        "id": "OfK6teMxW6tB"
      },
      "source": [
        "!pip install --upgrade pandas\n",
        "!pip install --upgrade numpy \n",
        "!pip install --upgrade scikit-learn \n",
        "!pip install --upgrade scipy \n",
        "!pip install --upgrade pip \n",
        "!pip install --upgrade matplotlib \n",
        "!pip install --upgrade imbalanced-learn"
      ],
      "execution_count": null,
      "outputs": []
    },
    {
      "cell_type": "code",
      "metadata": {
        "id": "yy2LkH4Djnp8"
      },
      "source": [
        "import pandas as pd\n",
        "import numpy as np\n",
        "from sklearn.model_selection import train_test_split,GridSearchCV\n",
        "from sklearn.metrics import classification_report, f1_score, precision_score, recall_score, confusion_matrix\n",
        "from sklearn.svm import SVC, LinearSVC\n",
        "from sklearn.dummy import DummyClassifier\n",
        "from sklearn.naive_bayes import GaussianNB\n",
        "from sklearn.neighbors import KNeighborsClassifier\n",
        "from sklearn.neural_network import MLPClassifier\n",
        "from sklearn.impute import SimpleImputer\n",
        "from sklearn import preprocessing\n",
        "import matplotlib.pyplot as plt\n",
        "from imblearn.pipeline import Pipeline\n",
        "#from sklearn.pipeline import Pipeline\n",
        "from sklearn.feature_selection import VarianceThreshold\n",
        "from sklearn.preprocessing import StandardScaler \n",
        "from imblearn.over_sampling import RandomOverSampler\n",
        "from sklearn.metrics import accuracy_score\n",
        "from sklearn.decomposition import PCA\n",
        "from sklearn import neighbors\n",
        "import seaborn as sns\n",
        "import time"
      ],
      "execution_count": null,
      "outputs": []
    },
    {
      "cell_type": "markdown",
      "metadata": {
        "id": "SpXkLtDCSXYP"
      },
      "source": [
        "##ΜΕΡΟΣ 1 (UCI dataset)"
      ]
    },
    {
      "cell_type": "markdown",
      "metadata": {
        "id": "Cc8dYeVFUC-O"
      },
      "source": [
        "#Εισαγωγή και επισκόπηση"
      ]
    },
    {
      "cell_type": "markdown",
      "metadata": {
        "id": "Acd-tS4ezC7x"
      },
      "source": [
        "Τα δεδομένα μας από το UCI είναι το echocardiogram.data που περιέχει καρδιογραφήματα και δίνει στοιχεία σχετικά με την πιθανότητα επιβίωσης ενός ασθενή για τουλάχιστον ένα έτος από τότε που υπέστη καρδιακή προσβολή.\n",
        "\n",
        "Το αρχείο μας δίνεται κατευθείαν σε .data format και έτσι δεν χρειάζεται να κάνουμε μετατροπές."
      ]
    },
    {
      "cell_type": "code",
      "metadata": {
        "id": "9H8D9IQUSXim",
        "colab": {
          "base_uri": "https://localhost:8080/"
        },
        "outputId": "1232666d-d592-4614-bf20-acf3eb86199c"
      },
      "source": [
        "!wget \"http://archive.ics.uci.edu/ml/machine-learning-databases/echocardiogram/echocardiogram.data\""
      ],
      "execution_count": null,
      "outputs": [
        {
          "output_type": "stream",
          "name": "stdout",
          "text": [
            "--2021-11-27 16:51:23--  http://archive.ics.uci.edu/ml/machine-learning-databases/echocardiogram/echocardiogram.data\n",
            "Resolving archive.ics.uci.edu (archive.ics.uci.edu)... 128.195.10.252\n",
            "Connecting to archive.ics.uci.edu (archive.ics.uci.edu)|128.195.10.252|:80... connected.\n",
            "HTTP request sent, awaiting response... 200 OK\n",
            "Length: 6107 (6.0K) [application/x-httpd-php]\n",
            "Saving to: ‘echocardiogram.data.3’\n",
            "\n",
            "\rechocardiogram.data   0%[                    ]       0  --.-KB/s               \rechocardiogram.data 100%[===================>]   5.96K  --.-KB/s    in 0s      \n",
            "\n",
            "2021-11-27 16:51:24 (661 MB/s) - ‘echocardiogram.data.3’ saved [6107/6107]\n",
            "\n"
          ]
        }
      ]
    },
    {
      "cell_type": "markdown",
      "metadata": {
        "id": "OyPJD7G4HJuE"
      },
      "source": [
        "Βλέπουμε ότι στα δεδομένα που μας δίνονται υπάρχει ένα περιττό κόμμα στην σειρά 50 το οποίο και αφαιρούμε"
      ]
    },
    {
      "cell_type": "markdown",
      "metadata": {
        "id": "JW-iQwcfzrjw"
      },
      "source": [
        "Τo dataset μας αποτελείται από 132 δείγματα και τα χαρακτηριστικά τους είναι 13.\n",
        "\n",
        "Παρατηρώντας το αρχείο echocardiogram.names καθώς και το αρχείο με τα στοιχεία βλέπουμε ότι οι στήλες - χαρακτηριστικά 10 και 12 μπορούν να μην ληφθούν υπόψιν στην μελέτη του dataset αφού το χαρακτηριστικό 10 (mult) είναι η παράγωγος μιας διακύμανσης η οποία μπορεί να παραληφθεί. Το 12 αναφέρεται στο αρχείο ως ανούσιο. Επίσης κοιτώντας αναλυτικά τα χαρακτηριστικά μπορούμε να καταλάβουμε ότι το 9 θα μπορούσε να αντικαταστήσει το 8. \n",
        "\n",
        "Σχετικά με το αν τα χαρακτηριστικά είναι διατεταγμένα βλέπουμε ότι σε όλα υπάρχει εμφανής διάταξη εκτός από το 12 (name) από το οποίο δεν μπορεί να προκύψει κάποια διάταξη μεταξύ των δειγμάτων."
      ]
    },
    {
      "cell_type": "code",
      "metadata": {
        "colab": {
          "base_uri": "https://localhost:8080/"
        },
        "id": "LkjoIPqzzk6J",
        "outputId": "7df4531c-be5f-4f49-8478-e4c2346f75f8"
      },
      "source": [
        "all_data = pd.read_csv(\"echocardiogram.data\",delimiter = ',',header = None)\n",
        "print(all_data.shape)"
      ],
      "execution_count": null,
      "outputs": [
        {
          "output_type": "stream",
          "name": "stdout",
          "text": [
            "(132, 13)\n"
          ]
        }
      ]
    },
    {
      "cell_type": "markdown",
      "metadata": {
        "id": "Fp-HK2BiymkS"
      },
      "source": [
        "Αφού οργανώσουμε αρχικά τα δεδομένα σε έναν πίνακα με βάση το που βρίσκονται τα κόμματα στο αρχείο εισόδου echocardiogram.data αφαιρούμε τις στήλες που παρουσιάζουν δεδομένα τα οποία μπορούν να παραλειφθούν ή δεν είναι τόσο σημαντικα."
      ]
    },
    {
      "cell_type": "markdown",
      "metadata": {
        "id": "GBvzA6OY2GV2"
      },
      "source": [
        "\n",
        "Σχετικά με τις επικεφαλίδες αυτές δεν υπάρχουν και η αρίθμηση γραμμών γίνεται από τη βιβλιοθήκη pandas όπως φαίνεται και από τον κώδικα παρακάτω."
      ]
    },
    {
      "cell_type": "code",
      "metadata": {
        "colab": {
          "base_uri": "https://localhost:8080/"
        },
        "id": "LzLSwuYeyis8",
        "outputId": "6da9a831-187b-4aba-d52b-aa7fabffe3e2"
      },
      "source": [
        "data = all_data.values\n",
        "data = np.delete(data, 11, 1)\n",
        "data = np.delete(data, 10, 1)\n",
        "data = np.delete(data, 9, 1)\n",
        "print(data)\n",
        "print(data.shape)"
      ],
      "execution_count": null,
      "outputs": [
        {
          "output_type": "stream",
          "name": "stdout",
          "text": [
            "[['11' '0' '71' ... '14' '1' '0']\n",
            " ['19' '0' '72' ... '14' '1.700' '0']\n",
            " ['16' '0' '55' ... '14' '1' '0']\n",
            " ...\n",
            " ['36' '0' '69' ... '14.5' '1.21' '?']\n",
            " ['22' '0' '57' ... '15' '1.36' '?']\n",
            " ['20' '0' '62' ... '15.5' '1.409' '?']]\n",
            "(132, 10)\n"
          ]
        }
      ]
    },
    {
      "cell_type": "markdown",
      "metadata": {
        "id": "xokNFme-2dBx"
      },
      "source": [
        "Σχετικά με τις ετικέτες των κλάσεων αυτές βρίσκονται στην τελευταία στήλη των δεδομένων και μας σείχνει αν ο ασθενής έχει ζήσει για έναν και πλέον χρόνια από τη στιγμή της καρδιακής προσβολής."
      ]
    },
    {
      "cell_type": "markdown",
      "metadata": {
        "id": "9MbFzXaB268_"
      },
      "source": [
        "Παρατηρούμε ότι στο αρχείο των δεδομένων έχουμε κάποιες τιμές που δεν γνωρίζουμε (απουσιάζουσες τιμές) οι οποίες για κάποιο λόγω απουσιάζουν από το dataset."
      ]
    },
    {
      "cell_type": "code",
      "metadata": {
        "colab": {
          "base_uri": "https://localhost:8080/"
        },
        "id": "_gLlijPv29K0",
        "outputId": "585276c6-5a0d-40be-b894-4d17a8b9b99c"
      },
      "source": [
        "missing_values = 0\n",
        "for i in range (data.shape[0]):\n",
        "  for j in range (data.shape[1]):\n",
        "    if data[i][j] == \"?\":\n",
        "      missing_values = missing_values + 1\n",
        "      break\n",
        "missing_level = missing_values/data.shape[0]*100 \n",
        "print(\"Τα δείγματα με απουσιάζουσες τιμές είναι:\", missing_values)\n",
        "print(\"Το ποσοστό των δειγμάτων με απουσιάζουσες τιμές είναι:\", missing_level, \"%\")"
      ],
      "execution_count": null,
      "outputs": [
        {
          "output_type": "stream",
          "name": "stdout",
          "text": [
            "Τα δείγματα με απουσιάζουσες τιμές είναι: 71\n",
            "Το ποσοστό των δειγμάτων με απουσιάζουσες τιμές είναι: 53.78787878787878 %\n"
          ]
        }
      ]
    },
    {
      "cell_type": "markdown",
      "metadata": {
        "id": "G9BJrYJH4slf"
      },
      "source": [
        "Έχουμε δύο οι οποίες δηλώνουν αν ο ασθενής κατάφερε να ζήσει ή όχι για τον ένα επόμενο χρόνο. \n",
        "\n",
        "Μπορούμε να βρούμε το πλήθος των δειγμάτων κάθε κλάσης και το ποσοστό που αυτά αντιστοιχούν. Δεν συνυπολογίσαμε τα missing values. "
      ]
    },
    {
      "cell_type": "code",
      "metadata": {
        "colab": {
          "base_uri": "https://localhost:8080/"
        },
        "id": "ml0_X0lA0ads",
        "outputId": "312941c0-7e2c-4d4f-da59-f2b5a6303a64"
      },
      "source": [
        "zeros_values = 0\n",
        "ones_values = 0\n",
        "missing_values_10 = 0\n",
        "for i in range (data.shape[0]):\n",
        "  if (data[i][9] == \"0\"):\n",
        "    zeros_values += 1\n",
        "  elif (data[i][9] ==\"1\"):\n",
        "    ones_values += 1\n",
        "  else:\n",
        "    missing_values_10 += 1\n",
        "print(\"Πλήθος δειγμάτων της κλασης 0:\", zeros_values)\n",
        "print(\"Πλήθος δειγμάτων της κλασης 1:\", ones_values)\n",
        "\n",
        "print(\"Ποσοστό δειγμάτων της κλάσης 0(στα συνολικά δείγματα):\", zeros_values/data.shape[0]*100, \"%\")\n",
        "print(\"Ποσοστό δειγμάτων της κλάσης 1(στα συνολικά δείγματα):\", ones_values/data.shape[0]*100, \"%\")\n",
        "\n",
        "print(\"Ποσοστό δειγμάτων της κλάσης 0(στα μη αποσιάζοντα δείγματα):\", zeros_values/(data.shape[0] - missing_values_10) *100, \"%\")\n",
        "print(\"Ποσοστό δειγμάτων της κλάσης 1(στα μη απουσιάζοντα δείγματα):\", ones_values/(data.shape[0] - missing_values_10) *100, \"%\")"
      ],
      "execution_count": null,
      "outputs": [
        {
          "output_type": "stream",
          "name": "stdout",
          "text": [
            "Πλήθος δειγμάτων της κλασης 0: 50\n",
            "Πλήθος δειγμάτων της κλασης 1: 24\n",
            "Ποσοστό δειγμάτων της κλάσης 0(στα συνολικά δείγματα): 37.878787878787875 %\n",
            "Ποσοστό δειγμάτων της κλάσης 1(στα συνολικά δείγματα): 18.181818181818183 %\n",
            "Ποσοστό δειγμάτων της κλάσης 0(στα μη αποσιάζοντα δείγματα): 67.56756756756756 %\n",
            "Ποσοστό δειγμάτων της κλάσης 1(στα μη απουσιάζοντα δείγματα): 32.432432432432435 %\n"
          ]
        }
      ]
    },
    {
      "cell_type": "markdown",
      "metadata": {
        "id": "v8Guq2203czm"
      },
      "source": [
        "Αν θεωρήσουμε ότι ένα dataset είναι μη ισορροπημένο αν μια οποιαδήποτε κλάση είναι 1.5 φορά πιο συχνή από κάποια άλλη (60%-40% σε binary dataset) βλέπουμε ότι εδώ δεν είναι ισορροπημένο."
      ]
    },
    {
      "cell_type": "markdown",
      "metadata": {
        "id": "vxj1sEmGUK-i"
      },
      "source": [
        "#Προετοιμασία"
      ]
    },
    {
      "cell_type": "markdown",
      "metadata": {
        "id": "HRtC9obkavLS"
      },
      "source": [
        "Θα διαχωρίσουμε το σύνολο σε train set και test set με 30% των δειγμάτων στο test set (και 70% στο train set).\n",
        "\n",
        "Στην αρχή θα χρειαστεί να αφαιρέσουμε τα δείγματα που έχουν ετικέτα = \"?\". Στα υπόλοιπα δείγματα θα κάνουμε μια αντικατάσταση με μια άλλη τιμή.\n",
        "\n",
        "Θα βρούμε την median τιμή της κάθε στήλης ώστε να τη βάλουμε στην θέση του \"?\"."
      ]
    },
    {
      "cell_type": "code",
      "metadata": {
        "id": "nCPrQQXHUNhp",
        "colab": {
          "base_uri": "https://localhost:8080/"
        },
        "outputId": "a490a020-1998-416f-c4c1-1003cc8c07b1"
      },
      "source": [
        "data = data[np.logical_not(data[:,9] == '?')]\n",
        "data = np.where(data==\"?\", np.NaN, data)\n",
        "imp_mean = SimpleImputer(missing_values= np.NaN, strategy='median')\n",
        "imp_mean.fit(data)\n",
        "data = imp_mean.transform(data)\n",
        "features_all = preprocessing.scale(data)[:,:9]\n",
        "labels_all = data[:,9]\n",
        "X_train, X_test, y_train, y_test = train_test_split(features_all, labels_all, test_size=0.3, random_state=2)\n",
        "\n",
        "print(\"X_train:\",X_train.shape)\n",
        "print(\"y_train:\",y_train.shape)\n",
        "\n",
        "print(\"X_test:\",X_test.shape)\n",
        "print(\"y_test:\",y_test.shape)"
      ],
      "execution_count": null,
      "outputs": [
        {
          "output_type": "stream",
          "name": "stdout",
          "text": [
            "X_train: (51, 9)\n",
            "y_train: (51,)\n",
            "X_test: (23, 9)\n",
            "y_test: (23,)\n"
          ]
        }
      ]
    },
    {
      "cell_type": "markdown",
      "metadata": {
        "id": "dQlQRHYNf6pV"
      },
      "source": [
        "Άρα βλέπουμε ότι έχουμε 51 δείγματα για train και άλλα 23 για test."
      ]
    },
    {
      "cell_type": "markdown",
      "metadata": {
        "id": "YIulzsPrUSGR"
      },
      "source": [
        "#Ταξινόμηση"
      ]
    },
    {
      "cell_type": "markdown",
      "metadata": {
        "id": "nlNcX_4ig6bK"
      },
      "source": [
        "Στο UCI dataset θα μελετήσουμε τους εξής ταξινομητές:\n",
        "\n",
        "-dummy\n",
        "\n",
        "-Gaussian Naive Bayes (GNB),\n",
        "\n",
        "-KNeirestNeighbors (kNN), και\n",
        "\n",
        "-Logistic Regression (LR)."
      ]
    },
    {
      "cell_type": "code",
      "metadata": {
        "id": "pnZDs-uSUXU1"
      },
      "source": [
        "def Baseline_approach(classifier,X_train,X_test,y_train,y_test):\n",
        "    classifier.fit(X_train,y_train)\n",
        "    y_pred = classifier.predict(X_test)\n",
        "    print(str(classifier),classifier.score(X_test,y_test))\n",
        "    print(\"f1 macro score =\",f1_score(y_test, y_pred, average='macro'))\n",
        "    print(\"accuracy score =\",accuracy_score(y_test, y_pred))\n",
        "    cf_matrix = confusion_matrix(y_pred,y_test)\n",
        "    sns.heatmap(cf_matrix, annot=False, cmap='nipy_spectral')\n",
        "    return classifier\n",
        "\n",
        "def plot(clfs,score1,score,function,approach):\n",
        "    plt.bar(clfs,score1)\n",
        "    plt.title(approach + \" \" + score + \" with \" + function + \" average\")\n",
        "    plt.savefig(approach + \"_\" + score + \"_with_\"+ function + \"_average.jpg\")\n",
        "    plt.show()\n",
        "\n",
        "def averaged_plots(classifierlist,X_test,y_test,approach):\n",
        "    clfs  = ['Uni', 'Strat',\"Freq\",\"Prior\",\"Con 0\",\"Con 1\", 'GNB', 'KNN','LR']\n",
        "    score_macro = []\n",
        "    accuracy = []\n",
        "    for classifier in classifierlist:        \n",
        "        y_pred = classifier.predict(X_test)\n",
        "        score_macro.append(f1_score(y_test, y_pred, average = 'macro'))        \n",
        "        accuracy.append(accuracy_score(y_test, y_pred))\n",
        "       \n",
        "    plot(clfs,score_macro,\"score\",\"macro\",approach)\n",
        "    plot(clfs,accuracy,\"accuracy\",\"macro\",approach)"
      ],
      "execution_count": null,
      "outputs": []
    },
    {
      "cell_type": "markdown",
      "metadata": {
        "id": "sW_QDsz_M01H"
      },
      "source": [
        "##DummyClassifier"
      ]
    },
    {
      "cell_type": "markdown",
      "metadata": {
        "id": "Y1S9nSNhMcop"
      },
      "source": [
        "Ο DummyClassifier είναι ένας ταξινομητής που κάνει προβλέψεις χρησιμοποιώντας απλούς κανόνες.\n",
        "\n",
        "Αυτός ο ταξινομητής είναι χρήσιμος για σύγκριση με άλλους ταξινομητές. Συνήθως δεν γίνεται χρήση για απλά προβλήματα.\n",
        "\n",
        "Η παράμετρος strategy μπορεί να πάρει τις εξής τιμές:\n",
        "\n",
        "\"stratified\": δημιουργεί προβλέψεις με σεβασμό στην κατανομή της τάξης του training set.\n",
        "\n",
        "\"most_frequent\": προβλέπει πάντα την πιο συχνή ετικέτα στο training set.\n",
        "\n",
        "\"prior\": προβλέπει πάντα την κλάση που μεγιστοποιεί την κλάση (όπως στο \"most_frequent\") και επίσης επιστρέφει την prior κλάση.\n",
        "\n",
        "\"uniform\": δημιουργεί προβλέψεις ομοιόμορφα τυχαία.\n",
        "\n",
        "\"constant\": προβλέπει πάντα μια constant ετικέτα που παρέχεται από τον χρήστη. Αυτό είναι χρήσιμο για μετρήσεις που αξιολογούν μια non-majority τάξη."
      ]
    },
    {
      "cell_type": "code",
      "metadata": {
        "colab": {
          "base_uri": "https://localhost:8080/",
          "height": 321
        },
        "id": "iS0y98aOqIEM",
        "outputId": "44206c09-d723-4f49-9274-3f5e3c962ead"
      },
      "source": [
        "dc_uniform = DummyClassifier(strategy=\"uniform\")\n",
        "uniform = Baseline_approach(dc_uniform,X_train,X_test,y_train,y_test)"
      ],
      "execution_count": null,
      "outputs": [
        {
          "output_type": "stream",
          "name": "stdout",
          "text": [
            "DummyClassifier(strategy='uniform') 0.5652173913043478\n",
            "f1 macro score = 0.50682261208577\n",
            "accuracy score = 0.5217391304347826\n"
          ]
        },
        {
          "output_type": "display_data",
          "data": {
            "image/png": "[encoded data removed]",
            "text/plain": [
              "<Figure size 432x288 with 2 Axes>"
            ]
          },
          "metadata": {
            "needs_background": "light"
          }
        }
      ]
    },
    {
      "cell_type": "code",
      "metadata": {
        "colab": {
          "base_uri": "https://localhost:8080/",
          "height": 321
        },
        "id": "00KBgP6PqKjh",
        "outputId": "7b0b689a-7689-4b91-a034-f1c190189bae"
      },
      "source": [
        "dc_stratified = DummyClassifier(strategy=\"stratified\")\n",
        "stratified = Baseline_approach(dc_stratified,X_train,X_test,y_train,y_test)"
      ],
      "execution_count": null,
      "outputs": [
        {
          "output_type": "stream",
          "name": "stdout",
          "text": [
            "DummyClassifier(strategy='stratified') 0.5652173913043478\n",
            "f1 macro score = 0.3935091277890467\n",
            "accuracy score = 0.43478260869565216\n"
          ]
        },
        {
          "output_type": "display_data",
          "data": {
            "image/png": "[encoded data removed]",
            "text/plain": [
              "<Figure size 432x288 with 2 Axes>"
            ]
          },
          "metadata": {
            "needs_background": "light"
          }
        }
      ]
    },
    {
      "cell_type": "code",
      "metadata": {
        "id": "s5Y6LrpiqZvZ",
        "colab": {
          "base_uri": "https://localhost:8080/",
          "height": 321
        },
        "outputId": "1fbb7f6a-f2bd-4254-dcb3-2270addc5deb"
      },
      "source": [
        "dc_most_frequent = DummyClassifier(strategy=\"most_frequent\")\n",
        "most_frequent = Baseline_approach(dc_most_frequent,X_train,X_test,y_train,y_test)"
      ],
      "execution_count": null,
      "outputs": [
        {
          "output_type": "stream",
          "name": "stdout",
          "text": [
            "DummyClassifier(strategy='most_frequent') 0.6956521739130435\n",
            "f1 macro score = 0.41025641025641024\n",
            "accuracy score = 0.6956521739130435\n"
          ]
        },
        {
          "output_type": "display_data",
          "data": {
            "image/png": "[encoded data removed]",
            "text/plain": [
              "<Figure size 432x288 with 2 Axes>"
            ]
          },
          "metadata": {
            "needs_background": "light"
          }
        }
      ]
    },
    {
      "cell_type": "code",
      "metadata": {
        "id": "bhz97DRYS0iL",
        "colab": {
          "base_uri": "https://localhost:8080/",
          "height": 321
        },
        "outputId": "a2bafa2f-256a-44e3-e5de-9f5b50f8dd2d"
      },
      "source": [
        "dc_prior = DummyClassifier(strategy=\"prior\")\n",
        "prior = Baseline_approach(dc_prior,X_train,X_test,y_train,y_test)"
      ],
      "execution_count": null,
      "outputs": [
        {
          "output_type": "stream",
          "name": "stdout",
          "text": [
            "DummyClassifier() 0.6956521739130435\n",
            "f1 macro score = 0.41025641025641024\n",
            "accuracy score = 0.6956521739130435\n"
          ]
        },
        {
          "output_type": "display_data",
          "data": {
            "image/png": "[encoded data removed]",
            "text/plain": [
              "<Figure size 432x288 with 2 Axes>"
            ]
          },
          "metadata": {
            "needs_background": "light"
          }
        }
      ]
    },
    {
      "cell_type": "code",
      "metadata": {
        "id": "KlHVn7s2S3Ei",
        "colab": {
          "base_uri": "https://localhost:8080/",
          "height": 321
        },
        "outputId": "d3c95f35-1aec-40f0-d5eb-d539cb73a812"
      },
      "source": [
        "dc_constant_0 = DummyClassifier(strategy=\"constant\", constant = 0.0)\n",
        "constant_0 = Baseline_approach(dc_constant_0,X_train,X_test,y_train,y_test)"
      ],
      "execution_count": null,
      "outputs": [
        {
          "output_type": "stream",
          "name": "stdout",
          "text": [
            "DummyClassifier(constant=0.0, strategy='constant') 0.6956521739130435\n",
            "f1 macro score = 0.41025641025641024\n",
            "accuracy score = 0.6956521739130435\n"
          ]
        },
        {
          "output_type": "display_data",
          "data": {
            "image/png": "[encoded data removed]",
            "text/plain": [
              "<Figure size 432x288 with 2 Axes>"
            ]
          },
          "metadata": {
            "needs_background": "light"
          }
        }
      ]
    },
    {
      "cell_type": "code",
      "metadata": {
        "colab": {
          "base_uri": "https://localhost:8080/",
          "height": 321
        },
        "id": "_kI4GJEnLbtv",
        "outputId": "60fb0cb4-dbe3-4b18-c0c9-c29eca8aa7e6"
      },
      "source": [
        "dc_constant_1 = DummyClassifier(strategy=\"constant\", constant = 1.0)\n",
        "constant_1 = Baseline_approach(dc_constant_1,X_train,X_test,y_train,y_test)"
      ],
      "execution_count": null,
      "outputs": [
        {
          "output_type": "stream",
          "name": "stdout",
          "text": [
            "DummyClassifier(constant=1.0, strategy='constant') 0.30434782608695654\n",
            "f1 macro score = 0.23333333333333334\n",
            "accuracy score = 0.30434782608695654\n"
          ]
        },
        {
          "output_type": "display_data",
          "data": {
            "image/png": "[encoded data removed]",
            "text/plain": [
              "<Figure size 432x288 with 2 Axes>"
            ]
          },
          "metadata": {
            "needs_background": "light"
          }
        }
      ]
    },
    {
      "cell_type": "markdown",
      "metadata": {
        "id": "hYlqIj5RM460"
      },
      "source": [
        "##Gaussian"
      ]
    },
    {
      "cell_type": "markdown",
      "metadata": {
        "id": "GhwUouhWQNwp"
      },
      "source": [
        "H βασική ιδέα λειτουργίας του ταξινομητή είναι o νόμος του Bayes $$P(A\\mid B)={\\frac {P(B\\mid A)\\,P(A)}{P(B)}}$$\n",
        "\n",
        "και η (naive) υπόθεση ότι τα χαρακτηριστικά είναι όλα ανεξάρτητα μεταξύ τους πράγμα που δεν ισχύει στην πραγματικότητα. \n",
        "\n",
        "Με δεδομένα μια μεταβλητή κατηγορίας (κλάσης) $y$ και ένα εξαρτώμενο διάνυσμα χαρακτηριστικών $x_1$ μέχρι $x_n$, σύμφωνα με το θεώρημα του Bayes θα ισχύει \n",
        "$$P(y \\mid x_1, \\dots, x_n) = \\frac{P(y) P(x_1, \\dots x_n \\mid y)}{P(x_1, \\dots, x_n)}$$\n",
        "Ισχύει ότι $P(x_1, \\dots, x_i, \\dots, x_n \\mid y) =  \\prod_{i=1}^{n} P(x_i | y, x_1, \\dots, x_{i-1}, x_{i+1}, \\dots, x_n)$ και κάνουμε την αφελή υπόθεση ότι το χαρακτηριστικό $x_i$ για κάθε $i$ εξαρτάται μόνο από την κλάση $y$ και όχι από οποιοδήποτε άλλο χαρακτηριστικό\n",
        "$$P(x_i | y, x_1, \\dots, x_{i-1}, x_{i+1}, \\dots, x_n) = P(x_i | y)$$\n",
        "αυτό οδηγεί στην απλοποίηση\n",
        "$$P(y \\mid x_1, \\dots, x_n) = \\frac{P(y) \\prod_{i=1}^{n} P(x_i \\mid y)}{P(x_1, \\dots, x_n)}$$\n",
        "Με δεδομένη είσοδο, το $P(x_1, \\dots, x_n)$ είναι σταθερό. Συνεπώς μπορούμε να χρησιμοποιήσουμε τον ακόλουθο κανόνα ταξινόμησης $$P(y \\mid x_1, \\dots, x_n) \\propto P(y) \\prod_{i=1}^{n} P(x_i \\mid y)$$\n",
        "$$\\Downarrow$$\n",
        "$$\\hat{y} = \\arg\\max_y P(y) \\prod_{i=1}^{n} P(x_i \\mid y)$$\n",
        "Το $P(y)$ είναι η υπόθεσή μας και ισούται με τη σχετική συχνότητα της κλάσης $y$ στο training set. To $P(x_i \\mid y)$ είναι η πιθανοφάνεια δηλαδή η πιθανότητα του δείγματος με δεδομένη την υπόθεσή μας και μπορεί επίσης να υπολογιστεί απλά από το training set. Οι διάφοροι Naive Bayes classifiers διαφοροποιούνται κυρίως από τις υποθέσεις που κάνουν ως προς την κατανομή $P(x_i \\mid y)$. Η κλάση $\\hat{y}$ που ανατίθεται σε ένα νέο δείγμα είναι αυτή που μεγιστοποιεί το δεξί μέλος της σχέσης."
      ]
    },
    {
      "cell_type": "code",
      "metadata": {
        "colab": {
          "base_uri": "https://localhost:8080/",
          "height": 321
        },
        "id": "m5LlIiU9Lgck",
        "outputId": "e84b33a9-ed9e-455d-b053-143a705579dd"
      },
      "source": [
        "clf = GaussianNB()\n",
        "GNB = Baseline_approach(clf,X_train,X_test,y_train,y_test)"
      ],
      "execution_count": null,
      "outputs": [
        {
          "output_type": "stream",
          "name": "stdout",
          "text": [
            "GaussianNB() 0.9130434782608695\n",
            "f1 macro score = 0.9041666666666668\n",
            "accuracy score = 0.9130434782608695\n"
          ]
        },
        {
          "output_type": "display_data",
          "data": {
            "image/png": "[encoded data removed]",
            "text/plain": [
              "<Figure size 432x288 with 2 Axes>"
            ]
          },
          "metadata": {
            "needs_background": "light"
          }
        }
      ]
    },
    {
      "cell_type": "markdown",
      "metadata": {
        "id": "-Ipu-RvVM8vW"
      },
      "source": [
        "##kNN"
      ]
    },
    {
      "cell_type": "markdown",
      "metadata": {
        "id": "S3jwr494QhNh"
      },
      "source": [
        "Είναι ταξινομητής που εφαρμόζει την ψηφοφορία k-nearest neighboors.\n",
        "Μια από τις παραμέτρους είναι το:\n",
        "\n",
        "n_neighbors : int, default=5"
      ]
    },
    {
      "cell_type": "code",
      "metadata": {
        "colab": {
          "base_uri": "https://localhost:8080/",
          "height": 317
        },
        "id": "RjkRkTLTLgTJ",
        "outputId": "27d43a9e-9343-45eb-c2d9-4802b3ad4c9d"
      },
      "source": [
        "clf = KNeighborsClassifier()\n",
        "Knn = Baseline_approach(clf,X_train,X_test,y_train,y_test)"
      ],
      "execution_count": null,
      "outputs": [
        {
          "output_type": "stream",
          "name": "stdout",
          "text": [
            "KNeighborsClassifier() 0.9565217391304348\n",
            "f1 macro score = 0.9505376344086022\n",
            "accuracy score = 0.9565217391304348\n"
          ]
        },
        {
          "output_type": "display_data",
          "data": {
            "image/png": "[encoded data removed]",
            "text/plain": [
              "<Figure size 432x288 with 2 Axes>"
            ]
          },
          "metadata": {
            "needs_background": "light"
          }
        }
      ]
    },
    {
      "cell_type": "markdown",
      "metadata": {
        "id": "kIbZT-Q3-DoL"
      },
      "source": [
        "##Logistic Regression \n"
      ]
    },
    {
      "cell_type": "markdown",
      "metadata": {
        "id": "Uyu9JDnT-Och"
      },
      "source": [
        "Πρόκειται για ένα μοντέλο λογιστικής παλινδρόμησης.\n",
        "\n",
        "Στο software χρησιμοποιείται για να κατανοησουμε τη σχέση μεταξύ μιας εξαρτημένης μεταβλητής έναντι των ανεξάρτητων υπολολίζοντας τις πιθανότητές τους χρησιμοπιώντας μια εξίσωση λογιστικής παλινδρόμησης."
      ]
    },
    {
      "cell_type": "code",
      "metadata": {
        "colab": {
          "base_uri": "https://localhost:8080/",
          "height": 317
        },
        "id": "JNlxob0x93wO",
        "outputId": "706b74c4-cf22-41ff-bb7e-4ccbbf9693dd"
      },
      "source": [
        "from sklearn.linear_model import LogisticRegression\n",
        "clf = LogisticRegression()\n",
        "LR = Baseline_approach(clf,X_train,X_test,y_train,y_test)"
      ],
      "execution_count": null,
      "outputs": [
        {
          "output_type": "stream",
          "name": "stdout",
          "text": [
            "LogisticRegression() 0.9565217391304348\n",
            "f1 macro score = 0.9505376344086022\n",
            "accuracy score = 0.9565217391304348\n"
          ]
        },
        {
          "output_type": "display_data",
          "data": {
            "image/png": "[encoded data removed]",
            "text/plain": [
              "<Figure size 432x288 with 2 Axes>"
            ]
          },
          "metadata": {
            "needs_background": "light"
          }
        }
      ]
    },
    {
      "cell_type": "markdown",
      "metadata": {
        "id": "l8O_wKprS1h5"
      },
      "source": [
        "##Μετρικές\n"
      ]
    },
    {
      "cell_type": "code",
      "metadata": {
        "id": "Uu_6rSeqS5xB",
        "colab": {
          "base_uri": "https://localhost:8080/",
          "height": 545
        },
        "outputId": "af3a3cbc-e64b-448d-a09b-646528faadc6"
      },
      "source": [
        "classifierlist = [uniform,stratified,most_frequent,prior,constant_0,constant_1,GNB,Knn,LR]\n",
        "averaged_plots(classifierlist,X_test,y_test,\"Baseline\")"
      ],
      "execution_count": null,
      "outputs": [
        {
          "output_type": "display_data",
          "data": {
            "image/png": "[encoded data removed]",
            "text/plain": [
              "<Figure size 432x288 with 1 Axes>"
            ]
          },
          "metadata": {
            "needs_background": "light"
          }
        },
        {
          "output_type": "display_data",
          "data": {
            "image/png": "[encoded data removed]",
            "text/plain": [
              "<Figure size 432x288 with 1 Axes>"
            ]
          },
          "metadata": {
            "needs_background": "light"
          }
        }
      ]
    },
    {
      "cell_type": "markdown",
      "metadata": {
        "id": "rVr7T2e6RaDs"
      },
      "source": [
        "Βλέπουμε ξεκάθαρα και από τις 2 μετρικές ότι ο kNN και ο LR πετυχαίνουν τα καλύτερα αποτελέσματα με τον Gaussian Naive Bayes να είναι λίγο χειρότερος.\n",
        "Όπως αναμέναμε ο dummy δεν έχει καλές αποδόσεις."
      ]
    },
    {
      "cell_type": "markdown",
      "metadata": {
        "id": "M2cD3we6Y3d2"
      },
      "source": [
        "#Βελτιστοποίηση\n"
      ]
    },
    {
      "cell_type": "markdown",
      "metadata": {
        "id": "ILxRaD2oAQ4J"
      },
      "source": [
        "## ΠΡΟΕΠΕΞΕΡΓΑΣΙΑ\n"
      ]
    },
    {
      "cell_type": "markdown",
      "metadata": {
        "id": "hfYCcfoJ5F8i"
      },
      "source": [
        "\n",
        "Σε πολλά προβλήματα ταξινόμησης η προεπεξεργασία είναι ένα πολύ σημαντικό και χρονοβόρο κομμάτι ολόκληρης της διαδικασίας το οποίο όμως συχνά έχει πολύ μεγάλο αντίκτυπο στην επίδοση του συστήματος. \n",
        "\n",
        "Τα βήματα προεπεξεργασίας στοχεύουν:\n",
        "* Στην αφαίρεση η αντικατάσταση απουσιάζουσων τιμών από το dataset\n",
        "* Στη μετατροπή των κατηγορικών μεταβλητών κατάλληλα ώστε να μπορούν να τους διαχειριστούν αλγόριθμοι μηχανικής μάθησης\n",
        "* Στην επιλογή ή εξαγωγή των κατάλληλων χαρακτηριστικών για το μοντέλο μας"
      ]
    },
    {
      "cell_type": "markdown",
      "metadata": {
        "id": "GGWqzATj5OBR"
      },
      "source": [
        "Αρχικά κάνουμε μείωση των χαρακτηριστικών εισόδου και βλέπουμε ποιά χαρακτηριστικά κρατάμε και ποιά όχι. \n",
        "Μετά από μια προσαρμογή του κατωφλίου κάνουμε κανονικοποίηση των χαρακτηριστικών και εξισσοροπούμε το training set με oversampling."
      ]
    },
    {
      "cell_type": "code",
      "metadata": {
        "id": "A6kHEpgM5RKb"
      },
      "source": [
        "from sklearn.feature_selection import VarianceThreshold\n",
        "from sklearn import preprocessing\n",
        "from imblearn.over_sampling import RandomOverSampler"
      ],
      "execution_count": null,
      "outputs": []
    },
    {
      "cell_type": "code",
      "metadata": {
        "id": "npOI9Omz43ZC"
      },
      "source": [
        "selector = VarianceThreshold() # default threshold = 0\n",
        "X_train_reduced = selector.fit_transform(X_train)\n",
        "mask = selector.get_support()\n",
        "X_test_reduced = selector.transform(X_test)"
      ],
      "execution_count": null,
      "outputs": []
    },
    {
      "cell_type": "code",
      "metadata": {
        "colab": {
          "base_uri": "https://localhost:8080/"
        },
        "id": "uMH2rxZb5Gmk",
        "outputId": "03b6a6fa-a5bb-4597-bec3-ab47ca65156a"
      },
      "source": [
        "selector = VarianceThreshold(threshold=0.00005)\n",
        "X_train_reduced = selector.fit_transform(X_train)\n",
        "print(X_train.shape)\n",
        "print(X_train_reduced.shape)\n",
        "mask = selector.get_support()\n",
        "X_test_reduced = selector.transform(X_test)\n",
        "print(X_test_reduced.shape)"
      ],
      "execution_count": null,
      "outputs": [
        {
          "output_type": "stream",
          "name": "stdout",
          "text": [
            "(51, 9)\n",
            "(51, 9)\n",
            "(23, 9)\n"
          ]
        }
      ]
    },
    {
      "cell_type": "code",
      "metadata": {
        "colab": {
          "base_uri": "https://localhost:8080/"
        },
        "id": "xtWdCEm35RLO",
        "outputId": "df9a93ec-4d58-476c-ab82-9e2e87c3af4b"
      },
      "source": [
        "scaler = preprocessing.StandardScaler().fit(X_train_reduced)\n",
        "X_train_scaled = scaler.transform(X_train_reduced)\n",
        "X_test_scaled = scaler.transform(X_test_reduced)\n",
        "summ = X_train_scaled.T.sum(axis=1)\n",
        "print(summ)"
      ],
      "execution_count": null,
      "outputs": [
        {
          "output_type": "stream",
          "name": "stdout",
          "text": [
            "[ 2.22044605e-16  8.88178420e-16 -3.38618023e-15  3.21964677e-15\n",
            " -8.88178420e-16 -1.99840144e-15  6.66133815e-16  0.00000000e+00\n",
            " -8.88178420e-16]\n"
          ]
        }
      ]
    },
    {
      "cell_type": "code",
      "metadata": {
        "colab": {
          "base_uri": "https://localhost:8080/"
        },
        "id": "_Mt1t18z5iXo",
        "outputId": "a2df1440-21ce-44b9-8547-2e2f18fd869e"
      },
      "source": [
        "ros = RandomOverSampler()\n",
        "X_train_resampled, y_train_resampled = ros.fit_resample(X_train_scaled, y_train)\n",
        "print(X_train.shape)\n",
        "print(X_train_resampled.shape)\n",
        "print(y_train_resampled.shape)\n",
        "summ = X_train_resampled.T.sum(axis=1)\n",
        "print(summ) "
      ],
      "execution_count": null,
      "outputs": [
        {
          "output_type": "stream",
          "name": "stdout",
          "text": [
            "(51, 9)\n",
            "(68, 9)\n",
            "(68,)\n",
            "[-18.78710089  21.16482932  14.96175518   2.35747583  -5.59053513\n",
            "   8.09253617   9.08925448  15.44030107  16.90940134]\n"
          ]
        }
      ]
    },
    {
      "cell_type": "markdown",
      "metadata": {
        "id": "p2MGMyGQ59k7"
      },
      "source": [
        "### Dummy Classifier"
      ]
    },
    {
      "cell_type": "code",
      "metadata": {
        "colab": {
          "base_uri": "https://localhost:8080/",
          "height": 321
        },
        "id": "CUfumonF506U",
        "outputId": "ff086b18-f34c-40b8-e232-dccc5500aff1"
      },
      "source": [
        "uniform = Baseline_approach(dc_uniform,X_train_resampled,X_test_scaled,y_train_resampled,y_test)"
      ],
      "execution_count": null,
      "outputs": [
        {
          "output_type": "stream",
          "name": "stdout",
          "text": [
            "DummyClassifier(strategy='uniform') 0.43478260869565216\n",
            "f1 macro score = 0.5576923076923077\n",
            "accuracy score = 0.5652173913043478\n"
          ]
        },
        {
          "output_type": "display_data",
          "data": {
            "image/png": "[encoded data removed]",
            "text/plain": [
              "<Figure size 432x288 with 2 Axes>"
            ]
          },
          "metadata": {
            "needs_background": "light"
          }
        }
      ]
    },
    {
      "cell_type": "code",
      "metadata": {
        "colab": {
          "base_uri": "https://localhost:8080/",
          "height": 321
        },
        "id": "LogUcx8Y6DQk",
        "outputId": "f12599ca-6c56-47d6-905d-1af821c664e5"
      },
      "source": [
        "stratified = Baseline_approach(dc_stratified,X_train_resampled,X_test_scaled,y_train_resampled,y_test)"
      ],
      "execution_count": null,
      "outputs": [
        {
          "output_type": "stream",
          "name": "stdout",
          "text": [
            "DummyClassifier(strategy='stratified') 0.30434782608695654\n",
            "f1 macro score = 0.5180952380952382\n",
            "accuracy score = 0.5217391304347826\n"
          ]
        },
        {
          "output_type": "display_data",
          "data": {
            "image/png": "[encoded data removed]",
            "text/plain": [
              "<Figure size 432x288 with 2 Axes>"
            ]
          },
          "metadata": {
            "needs_background": "light"
          }
        }
      ]
    },
    {
      "cell_type": "code",
      "metadata": {
        "colab": {
          "base_uri": "https://localhost:8080/",
          "height": 321
        },
        "id": "1ALPXphs6DHJ",
        "outputId": "a48490dc-bf4a-4640-9a6a-396305d825fe"
      },
      "source": [
        "most_frequent = Baseline_approach(dc_most_frequent,X_train_resampled,X_test_scaled,y_train_resampled,y_test)"
      ],
      "execution_count": null,
      "outputs": [
        {
          "output_type": "stream",
          "name": "stdout",
          "text": [
            "DummyClassifier(strategy='most_frequent') 0.6956521739130435\n",
            "f1 macro score = 0.41025641025641024\n",
            "accuracy score = 0.6956521739130435\n"
          ]
        },
        {
          "output_type": "display_data",
          "data": {
            "image/png": "[encoded data removed]",
            "text/plain": [
              "<Figure size 432x288 with 2 Axes>"
            ]
          },
          "metadata": {
            "needs_background": "light"
          }
        }
      ]
    },
    {
      "cell_type": "code",
      "metadata": {
        "colab": {
          "base_uri": "https://localhost:8080/",
          "height": 321
        },
        "id": "NvJmHWJ16C_Y",
        "outputId": "d02e1bc0-1b4a-46b9-bfb1-84b47a2462a6"
      },
      "source": [
        "prior = Baseline_approach(dc_prior,X_train_resampled,X_test_scaled,y_train_resampled,y_test)"
      ],
      "execution_count": null,
      "outputs": [
        {
          "output_type": "stream",
          "name": "stdout",
          "text": [
            "DummyClassifier() 0.6956521739130435\n",
            "f1 macro score = 0.41025641025641024\n",
            "accuracy score = 0.6956521739130435\n"
          ]
        },
        {
          "output_type": "display_data",
          "data": {
            "image/png": "[encoded data removed]",
            "text/plain": [
              "<Figure size 432x288 with 2 Axes>"
            ]
          },
          "metadata": {
            "needs_background": "light"
          }
        }
      ]
    },
    {
      "cell_type": "code",
      "metadata": {
        "colab": {
          "base_uri": "https://localhost:8080/",
          "height": 321
        },
        "id": "DyPFfs_96C2Z",
        "outputId": "a8a7c664-4bbf-484f-94a1-bb880847b20f"
      },
      "source": [
        "constant_0 = Baseline_approach(dc_constant_0,X_train_resampled,X_test_scaled,y_train_resampled,y_test)"
      ],
      "execution_count": null,
      "outputs": [
        {
          "output_type": "stream",
          "name": "stdout",
          "text": [
            "DummyClassifier(constant=0.0, strategy='constant') 0.6956521739130435\n",
            "f1 macro score = 0.41025641025641024\n",
            "accuracy score = 0.6956521739130435\n"
          ]
        },
        {
          "output_type": "display_data",
          "data": {
            "image/png": "[encoded data removed]",
            "text/plain": [
              "<Figure size 432x288 with 2 Axes>"
            ]
          },
          "metadata": {
            "needs_background": "light"
          }
        }
      ]
    },
    {
      "cell_type": "code",
      "metadata": {
        "colab": {
          "base_uri": "https://localhost:8080/",
          "height": 321
        },
        "id": "RMEUvEiP_zZC",
        "outputId": "fd66a7ee-b54f-441f-c475-67456e5f3772"
      },
      "source": [
        "constant_1 = Baseline_approach(dc_constant_1,X_train_resampled,X_test_scaled,y_train_resampled,y_test)"
      ],
      "execution_count": null,
      "outputs": [
        {
          "output_type": "stream",
          "name": "stdout",
          "text": [
            "DummyClassifier(constant=1.0, strategy='constant') 0.30434782608695654\n",
            "f1 macro score = 0.23333333333333334\n",
            "accuracy score = 0.30434782608695654\n"
          ]
        },
        {
          "output_type": "display_data",
          "data": {
            "image/png": "[encoded data removed]",
            "text/plain": [
              "<Figure size 432x288 with 2 Axes>"
            ]
          },
          "metadata": {
            "needs_background": "light"
          }
        }
      ]
    },
    {
      "cell_type": "markdown",
      "metadata": {
        "id": "pnHVQqGo6eEw"
      },
      "source": [
        "###Gaussian"
      ]
    },
    {
      "cell_type": "code",
      "metadata": {
        "colab": {
          "base_uri": "https://localhost:8080/",
          "height": 321
        },
        "id": "wPrcwTQRAA75",
        "outputId": "f72997af-8df8-48ff-a595-c302118e2f2e"
      },
      "source": [
        "clf = GaussianNB()\n",
        "GNB = Baseline_approach(clf,X_train_resampled,X_test_scaled,y_train_resampled,y_test)"
      ],
      "execution_count": null,
      "outputs": [
        {
          "output_type": "stream",
          "name": "stdout",
          "text": [
            "GaussianNB() 0.9130434782608695\n",
            "f1 macro score = 0.9041666666666668\n",
            "accuracy score = 0.9130434782608695\n"
          ]
        },
        {
          "output_type": "display_data",
          "data": {
            "image/png": "[encoded data removed]",
            "text/plain": [
              "<Figure size 432x288 with 2 Axes>"
            ]
          },
          "metadata": {
            "needs_background": "light"
          }
        }
      ]
    },
    {
      "cell_type": "markdown",
      "metadata": {
        "id": "OCwmyvGc6hlR"
      },
      "source": [
        "###kNN"
      ]
    },
    {
      "cell_type": "code",
      "metadata": {
        "colab": {
          "base_uri": "https://localhost:8080/",
          "height": 321
        },
        "id": "Of49anuOAAxi",
        "outputId": "1f4c9a73-22e5-4b2d-b046-05037d24f195"
      },
      "source": [
        "clf = KNeighborsClassifier()\n",
        "Knn = Baseline_approach(clf,X_train_resampled,X_test_scaled,y_train_resampled,y_test)"
      ],
      "execution_count": null,
      "outputs": [
        {
          "output_type": "stream",
          "name": "stdout",
          "text": [
            "KNeighborsClassifier() 0.9130434782608695\n",
            "f1 macro score = 0.9041666666666668\n",
            "accuracy score = 0.9130434782608695\n"
          ]
        },
        {
          "output_type": "display_data",
          "data": {
            "image/png": "[encoded data removed]",
            "text/plain": [
              "<Figure size 432x288 with 2 Axes>"
            ]
          },
          "metadata": {
            "needs_background": "light"
          }
        }
      ]
    },
    {
      "cell_type": "markdown",
      "metadata": {
        "id": "qkKZx4dV6oG7"
      },
      "source": [
        "###Logistic Regration"
      ]
    },
    {
      "cell_type": "code",
      "metadata": {
        "colab": {
          "base_uri": "https://localhost:8080/",
          "height": 317
        },
        "id": "gBKEmT6lCY5f",
        "outputId": "a76e9a1c-069e-4e69-8a91-bbc5df3d3630"
      },
      "source": [
        "clf = LogisticRegression()\n",
        "LR = Baseline_approach(clf,X_train_resampled,X_test_scaled,y_train_resampled,y_test)"
      ],
      "execution_count": null,
      "outputs": [
        {
          "output_type": "stream",
          "name": "stdout",
          "text": [
            "LogisticRegression() 0.9565217391304348\n",
            "f1 macro score = 0.9505376344086022\n",
            "accuracy score = 0.9565217391304348\n"
          ]
        },
        {
          "output_type": "display_data",
          "data": {
            "image/png": "[encoded data removed]",
            "text/plain": [
              "<Figure size 432x288 with 2 Axes>"
            ]
          },
          "metadata": {
            "needs_background": "light"
          }
        }
      ]
    },
    {
      "cell_type": "markdown",
      "metadata": {
        "id": "yssjzL5Y6rKs"
      },
      "source": [
        "###Μετρικές"
      ]
    },
    {
      "cell_type": "code",
      "metadata": {
        "colab": {
          "base_uri": "https://localhost:8080/",
          "height": 545
        },
        "id": "bfWF7K6VCtYl",
        "outputId": "db710cdd-2ac3-4200-8614-5c4a3f9c2108"
      },
      "source": [
        "classifierlist = [uniform,stratified,most_frequent,prior,constant_0,constant_1,GNB,Knn,LR]\n",
        "averaged_plots(classifierlist,X_test,y_test,\"Baseline\")"
      ],
      "execution_count": null,
      "outputs": [
        {
          "output_type": "display_data",
          "data": {
            "image/png": "[encoded data removed]",
            "text/plain": [
              "<Figure size 432x288 with 1 Axes>"
            ]
          },
          "metadata": {
            "needs_background": "light"
          }
        },
        {
          "output_type": "display_data",
          "data": {
            "image/png": "[encoded data removed]",
            "text/plain": [
              "<Figure size 432x288 with 1 Axes>"
            ]
          },
          "metadata": {
            "needs_background": "light"
          }
        }
      ]
    },
    {
      "cell_type": "markdown",
      "metadata": {
        "id": "NxA1ErKRNhVf"
      },
      "source": [
        "Μετά την προεπεξεργασία βλέπουμε ότι όπως και πριν ο kNN και ο LR πετυχαίνουν τα καλύτερα αποτελέσματα ενώ ο Gaussian είναι χειρότερος απο πριν."
      ]
    },
    {
      "cell_type": "markdown",
      "metadata": {
        "id": "1ol3esF4Y__i"
      },
      "source": [
        "## Pipeline"
      ]
    },
    {
      "cell_type": "markdown",
      "metadata": {
        "id": "58wdfZgC7l-s"
      },
      "source": [
        "Μια διαδικασία pipeline αποτελείται από μια σεiρα μετασχηματιστών πάνω στα χαρακτηριστικά των δεδομένων που τελειώνει σε έναν εκτιμητή.\n",
        "\n",
        "Οι μετασχηματιστές χρησιμοποιούνται για να κανουν την προεπεξεργασία των δεδομένων. Έχουμε 5 μετασχηματιστές: την επιλογή χαρακτηριστικών VarianceThreshold, τον μετασχηματιστή κανονικοποίησης scaler, τον εξισορροπητή με τυχαία υπερδειγματοληψία RandomOverSampler και την εξαγωγή χαρακτηριστικών PCA.\n",
        "\n",
        "\n",
        "Στο τέλος του pipeline VarianceThreshold - scaler - RandomOverSampler - PCA βάζουμε τον εκτιμητή - ταξινομητή που θέλουμε κάθε φορά. Οι ταξινομητές και οι υπερπαράμετροι τους δεν επιδρούν στη μορφή των δεδομένων όπως οι μετασχηματιστές αλλά έχουν προφανώς επίδραση στην απόδοση του μοντέλου.\n"
      ]
    },
    {
      "cell_type": "code",
      "metadata": {
        "id": "6V_wMvf2Y6hX"
      },
      "source": [
        "from imblearn.pipeline import Pipeline\n",
        "from sklearn.feature_selection import VarianceThreshold\n",
        "from sklearn.preprocessing import StandardScaler\n",
        "from imblearn.over_sampling import RandomOverSampler\n",
        "from sklearn.decomposition import PCA\n",
        "\n",
        "def make_pipeline(classifier, X_train, y_train, X_test, y_test):\n",
        "  selector = VarianceThreshold()\n",
        "  scaler = StandardScaler()\n",
        "  ros = RandomOverSampler()\n",
        "  pca = PCA()\n",
        "  classifier = Pipeline(steps=[('selector', selector), ('scaler', scaler), ('sampler', ros), ('pca', pca), ('classifier', classifier)])\n",
        "  classifier.fit(X_train,y_train)\n",
        "  y_pred = classifier.predict(X_test)\n",
        "  print(str(classifier),classifier.score(X_test,y_test))\n",
        "  print(\"f1 macro score =\",f1_score(y_test, y_pred, average='macro'))\n",
        "  print(\"accuracy score =\",accuracy_score(y_test, y_pred))\n",
        "  return classifier"
      ],
      "execution_count": null,
      "outputs": []
    },
    {
      "cell_type": "markdown",
      "metadata": {
        "id": "x4XfnUdJ7DXS"
      },
      "source": [
        "### Ορισμος pipes για κάθε classifier"
      ]
    },
    {
      "cell_type": "code",
      "metadata": {
        "colab": {
          "base_uri": "https://localhost:8080/"
        },
        "id": "tqNyF80wwu0g",
        "outputId": "394bd7f4-292b-4c30-9558-512ccfa5ff29"
      },
      "source": [
        "dc_uniform = DummyClassifier(strategy=\"uniform\")\n",
        "dc_stratified = DummyClassifier(strategy=\"stratified\")\n",
        "dc_most_frequent = DummyClassifier(strategy=\"most_frequent\")\n",
        "dc_prior = DummyClassifier(strategy=\"prior\")\n",
        "dc_constant_0 = DummyClassifier(strategy=\"constant\", constant = 0.0)\n",
        "dc_constant_1 = DummyClassifier(strategy=\"constant\", constant = 1.0)\n",
        "gaussian_NB = GaussianNB()\n",
        "kNN = KNeighborsClassifier(n_jobs=-1, n_neighbors = 1)\n",
        "LR = LogisticRegression()\n",
        "\n",
        "pipe_1 = make_pipeline(dc_uniform, X_train, y_train, X_test, y_test)\n",
        "pipe_2 = make_pipeline(dc_stratified, X_train, y_train, X_test, y_test)\n",
        "pipe_3 = make_pipeline(dc_most_frequent, X_train, y_train, X_test, y_test)\n",
        "pipe_4 = make_pipeline(dc_prior, X_train, y_train, X_test, y_test)\n",
        "pipe_5 = make_pipeline(dc_constant_0, X_train, y_train, X_test, y_test)\n",
        "pipe_6 = make_pipeline(dc_constant_1, X_train, y_train, X_test, y_test)\n",
        "pipe_7 = make_pipeline(gaussian_NB, X_train, y_train, X_test, y_test)\n",
        "pipe_8 = make_pipeline(kNN, X_train, y_train, X_test, y_test)\n",
        "pipe_9 = make_pipeline(LR, X_train, y_train, X_test, y_test)"
      ],
      "execution_count": null,
      "outputs": [
        {
          "output_type": "stream",
          "name": "stdout",
          "text": [
            "Pipeline(steps=[('selector', VarianceThreshold()), ('scaler', StandardScaler()),\n",
            "                ('sampler', RandomOverSampler()), ('pca', PCA()),\n",
            "                ('classifier', DummyClassifier(strategy='uniform'))]) 0.7391304347826086\n",
            "f1 macro score = 0.43047619047619046\n",
            "accuracy score = 0.43478260869565216\n",
            "Pipeline(steps=[('selector', VarianceThreshold()), ('scaler', StandardScaler()),\n",
            "                ('sampler', RandomOverSampler()), ('pca', PCA()),\n",
            "                ('classifier', DummyClassifier(strategy='stratified'))]) 0.4782608695652174\n",
            "f1 macro score = 0.46923076923076923\n",
            "accuracy score = 0.4782608695652174\n",
            "Pipeline(steps=[('selector', VarianceThreshold()), ('scaler', StandardScaler()),\n",
            "                ('sampler', RandomOverSampler()), ('pca', PCA()),\n",
            "                ('classifier', DummyClassifier(strategy='most_frequent'))]) 0.6956521739130435\n",
            "f1 macro score = 0.41025641025641024\n",
            "accuracy score = 0.6956521739130435\n",
            "Pipeline(steps=[('selector', VarianceThreshold()), ('scaler', StandardScaler()),\n",
            "                ('sampler', RandomOverSampler()), ('pca', PCA()),\n",
            "                ('classifier', DummyClassifier())]) 0.6956521739130435\n",
            "f1 macro score = 0.41025641025641024\n",
            "accuracy score = 0.6956521739130435\n",
            "Pipeline(steps=[('selector', VarianceThreshold()), ('scaler', StandardScaler()),\n",
            "                ('sampler', RandomOverSampler()), ('pca', PCA()),\n",
            "                ('classifier',\n",
            "                 DummyClassifier(constant=0.0, strategy='constant'))]) 0.6956521739130435\n",
            "f1 macro score = 0.41025641025641024\n",
            "accuracy score = 0.6956521739130435\n",
            "Pipeline(steps=[('selector', VarianceThreshold()), ('scaler', StandardScaler()),\n",
            "                ('sampler', RandomOverSampler()), ('pca', PCA()),\n",
            "                ('classifier',\n",
            "                 DummyClassifier(constant=1.0, strategy='constant'))]) 0.30434782608695654\n",
            "f1 macro score = 0.23333333333333334\n",
            "accuracy score = 0.30434782608695654\n",
            "Pipeline(steps=[('selector', VarianceThreshold()), ('scaler', StandardScaler()),\n",
            "                ('sampler', RandomOverSampler()), ('pca', PCA()),\n",
            "                ('classifier', GaussianNB())]) 0.9130434782608695\n",
            "f1 macro score = 0.9041666666666668\n",
            "accuracy score = 0.9130434782608695\n",
            "Pipeline(steps=[('selector', VarianceThreshold()), ('scaler', StandardScaler()),\n",
            "                ('sampler', RandomOverSampler()), ('pca', PCA()),\n",
            "                ('classifier', KNeighborsClassifier(n_jobs=-1, n_neighbors=1))]) 0.8260869565217391\n",
            "f1 macro score = 0.7745098039215685\n",
            "accuracy score = 0.8260869565217391\n",
            "Pipeline(steps=[('selector', VarianceThreshold()), ('scaler', StandardScaler()),\n",
            "                ('sampler', RandomOverSampler()), ('pca', PCA()),\n",
            "                ('classifier', LogisticRegression())]) 0.9565217391304348\n",
            "f1 macro score = 0.9505376344086022\n",
            "accuracy score = 0.9565217391304348\n"
          ]
        }
      ]
    },
    {
      "cell_type": "markdown",
      "metadata": {
        "id": "FROzcHEj695i"
      },
      "source": [
        "###Μετρικές"
      ]
    },
    {
      "cell_type": "code",
      "metadata": {
        "colab": {
          "base_uri": "https://localhost:8080/",
          "height": 545
        },
        "id": "5mJZv4jyB6HG",
        "outputId": "591d26c8-49bb-474b-a239-0c71bcf9afba"
      },
      "source": [
        "classifierlist = [pipe_1,pipe_2,pipe_3,pipe_4,pipe_5,pipe_6,pipe_7,pipe_8,pipe_9]\n",
        "averaged_plots(classifierlist,X_test,y_test,\"Baseline\")"
      ],
      "execution_count": null,
      "outputs": [
        {
          "output_type": "display_data",
          "data": {
            "image/png": "[encoded data removed]",
            "text/plain": [
              "<Figure size 432x288 with 1 Axes>"
            ]
          },
          "metadata": {
            "needs_background": "light"
          }
        },
        {
          "output_type": "display_data",
          "data": {
            "image/png": "[encoded data removed]",
            "text/plain": [
              "<Figure size 432x288 with 1 Axes>"
            ]
          },
          "metadata": {
            "needs_background": "light"
          }
        }
      ]
    },
    {
      "cell_type": "markdown",
      "metadata": {
        "id": "TVWllgNYN491"
      },
      "source": [
        "Εδώ καλύετρα αποτελέσματα πετυχαίνουμε με τον LR ενώ λίγο χειρότερο score εχει ο Gaussian."
      ]
    },
    {
      "cell_type": "markdown",
      "metadata": {
        "id": "zEN07yBr4o3L"
      },
      "source": [
        "## Εύρεση βέλτιστων υπερπαραμέτρων"
      ]
    },
    {
      "cell_type": "markdown",
      "metadata": {
        "id": "1OglgHa89csd"
      },
      "source": [
        "Η απόδοση όλων των πιθανών συνδυασμών υπερ-παραμέτρων μετασχηματιστών και εκτιμητή γίνεται με αναζήτηση πλέγματος (grid search). Ορίζουμε για κάθε παράμετρο ένα πεδίο ορισμού, συνήθως με ελάχιστο, μέγιστο και κάποιο βήμα και φτιάχνουμε ένα πλέγμα με όλους τους πιθανούς συνδυασμούς τιμών των παραμέτρων. \n",
        "\n",
        "Για κάθε τιμή υπερπαραμέτρων του grid θα πρέπει να υπολογιστεί ο μέσος όρος του εκτιμητή σε όλα τα folds του cross-validation με βάση το metric (πχ F1) και να επιλεχθεί ο καλύτερος συνδυασμός παραμέτρων. Η συγκεκριμένη στρατηγική αναζήτησης των βέλτιστων υπερπαραμέτρων είναι η εξαντλητική αναζήτηση πλέγματος (exhaustive grid search) και είναι προφανώς πολύ ακριβή υπολογιστικά. \n",
        "\n",
        "Συνοψίζοντας, η βελτιστοποίηση των υπερπαραμέτρων απαιτεί \n",
        "\n",
        "- έναν εκτιμητή (έναν ταξινομητή)\n",
        "- τον πεδίο ορισμού των υπερπαραμέτρων\n",
        "- ένα τρόπο αναζήτησης των πιθανών συνδυασμών τιμών τους πχ grid search\n",
        "- ένα σχήμα cross-validation πχ 5-fold\n",
        "- μια μετρική απόδοσης (ή score) πχ F1-macro\n"
      ]
    },
    {
      "cell_type": "markdown",
      "metadata": {
        "id": "KtsKHJIa-owI"
      },
      "source": [
        "εδω ποιο ειναι το καλυετερο για τους γειτονες \n",
        "οχι 1 καλυετρο το 9 10"
      ]
    },
    {
      "cell_type": "code",
      "metadata": {
        "colab": {
          "base_uri": "https://localhost:8080/"
        },
        "id": "hf9OzH9wEj6_",
        "outputId": "d20c98c0-7c09-4824-b9f1-d92cb287e815"
      },
      "source": [
        "from sklearn.model_selection import GridSearchCV\n",
        "\n",
        "param_grid = {'n_neighbors' :  [i + 1 for i in range(10)]}\n",
        "\n",
        "import time\n",
        "start_time = time.time()\n",
        "\n",
        "grid = GridSearchCV(clf,param_grid,refit=True,verbose=2)\n",
        "grid.fit(X_train,y_train)\n",
        "print(grid.best_estimator_)\n",
        "Best_grid = grid.best_estimator_.fit(X_train,y_train)\n",
        "print(Best_grid.score(X_test,y_test))"
      ],
      "execution_count": null,
      "outputs": [
        {
          "output_type": "stream",
          "name": "stdout",
          "text": [
            "Fitting 5 folds for each of 10 candidates, totalling 50 fits\n",
            "[CV] END ......................................n_neighbors=1; total time=   0.0s\n",
            "[CV] END ......................................n_neighbors=1; total time=   0.0s\n",
            "[CV] END ......................................n_neighbors=1; total time=   0.0s\n",
            "[CV] END ......................................n_neighbors=1; total time=   0.0s\n",
            "[CV] END ......................................n_neighbors=1; total time=   0.0s\n",
            "[CV] END ......................................n_neighbors=2; total time=   0.0s\n",
            "[CV] END ......................................n_neighbors=2; total time=   0.0s\n",
            "[CV] END ......................................n_neighbors=2; total time=   0.0s\n",
            "[CV] END ......................................n_neighbors=2; total time=   0.0s\n",
            "[CV] END ......................................n_neighbors=2; total time=   0.0s\n",
            "[CV] END ......................................n_neighbors=3; total time=   0.0s\n",
            "[CV] END ......................................n_neighbors=3; total time=   0.0s\n",
            "[CV] END ......................................n_neighbors=3; total time=   0.0s\n",
            "[CV] END ......................................n_neighbors=3; total time=   0.0s\n",
            "[CV] END ......................................n_neighbors=3; total time=   0.0s\n",
            "[CV] END ......................................n_neighbors=4; total time=   0.0s\n",
            "[CV] END ......................................n_neighbors=4; total time=   0.0s\n",
            "[CV] END ......................................n_neighbors=4; total time=   0.0s\n",
            "[CV] END ......................................n_neighbors=4; total time=   0.0s\n",
            "[CV] END ......................................n_neighbors=4; total time=   0.0s\n",
            "[CV] END ......................................n_neighbors=5; total time=   0.0s\n",
            "[CV] END ......................................n_neighbors=5; total time=   0.0s\n",
            "[CV] END ......................................n_neighbors=5; total time=   0.0s\n",
            "[CV] END ......................................n_neighbors=5; total time=   0.0s\n",
            "[CV] END ......................................n_neighbors=5; total time=   0.0s\n",
            "[CV] END ......................................n_neighbors=6; total time=   0.0s\n",
            "[CV] END ......................................n_neighbors=6; total time=   0.0s\n",
            "[CV] END ......................................n_neighbors=6; total time=   0.0s\n",
            "[CV] END ......................................n_neighbors=6; total time=   0.0s\n",
            "[CV] END ......................................n_neighbors=6; total time=   0.0s\n",
            "[CV] END ......................................n_neighbors=7; total time=   0.0s\n",
            "[CV] END ......................................n_neighbors=7; total time=   0.0s\n",
            "[CV] END ......................................n_neighbors=7; total time=   0.0s\n",
            "[CV] END ......................................n_neighbors=7; total time=   0.0s\n",
            "[CV] END ......................................n_neighbors=7; total time=   0.0s\n",
            "[CV] END ......................................n_neighbors=8; total time=   0.0s\n",
            "[CV] END ......................................n_neighbors=8; total time=   0.0s\n",
            "[CV] END ......................................n_neighbors=8; total time=   0.0s\n",
            "[CV] END ......................................n_neighbors=8; total time=   0.0s\n",
            "[CV] END ......................................n_neighbors=8; total time=   0.0s\n",
            "[CV] END ......................................n_neighbors=9; total time=   0.0s\n",
            "[CV] END ......................................n_neighbors=9; total time=   0.0s\n",
            "[CV] END ......................................n_neighbors=9; total time=   0.0s\n",
            "[CV] END ......................................n_neighbors=9; total time=   0.0s\n",
            "[CV] END ......................................n_neighbors=9; total time=   0.0s\n",
            "[CV] END .....................................n_neighbors=10; total time=   0.0s\n",
            "[CV] END .....................................n_neighbors=10; total time=   0.0s\n",
            "[CV] END .....................................n_neighbors=10; total time=   0.0s\n",
            "[CV] END .....................................n_neighbors=10; total time=   0.0s\n",
            "[CV] END .....................................n_neighbors=10; total time=   0.0s\n",
            "KNeighborsClassifier(n_jobs=-1, n_neighbors=1)\n",
            "0.8260869565217391\n"
          ]
        }
      ]
    },
    {
      "cell_type": "code",
      "metadata": {
        "id": "a8oYAPNzFI_P",
        "colab": {
          "base_uri": "https://localhost:8080/"
        },
        "outputId": "127fd2c7-3f50-4857-d1b8-a873a5b3274e"
      },
      "source": [
        "print(grid.best_estimator_)\n"
      ],
      "execution_count": null,
      "outputs": [
        {
          "output_type": "stream",
          "name": "stdout",
          "text": [
            "KNeighborsClassifier(n_jobs=-1, n_neighbors=1)\n"
          ]
        }
      ]
    },
    {
      "cell_type": "markdown",
      "metadata": {
        "id": "TLF8mYrExqWr"
      },
      "source": [
        "Βλέπουμε ότι παίρνουμε σαν αποτέλεσμα ότι το καλύτερο είναι με έναν γείτονα.\n",
        "Παρόλα αυτά κάνοντας δοκιμές βλέπουμε ότι καλύτερα αποτελέσματα πετυχαίνουμε με 9 ή 10 γείτονες."
      ]
    },
    {
      "cell_type": "code",
      "metadata": {
        "colab": {
          "base_uri": "https://localhost:8080/"
        },
        "id": "vn4CzPwOxSy_",
        "outputId": "44e5251a-fbf5-41ec-c9f6-64158dd1edd0"
      },
      "source": [
        "from sklearn.model_selection import GridSearchCV\n",
        "\n",
        "mlp_param_grid ={'hidden_layer_sizes': [(100),(50,50),(25,25)], \n",
        "                    'solver': ['sgd', 'adam'],\n",
        "                    'learning_rate': ['constant','adaptive']}\n",
        "mlp_grid = GridSearchCV(MLPClassifier(),mlp_param_grid,refit=True,verbose=2)\n",
        "mlp_grid.fit(X_train_resampled, y_train_resampled)\n",
        "print(\"Overall fit time: \" , time.time()-start_time)\n",
        "\n",
        "start_time=time.time()\n",
        "mlp_grid.predict(X_test_scaled)\n",
        "print(\"Predict time: \", time.time()-start_time)\n"
      ],
      "execution_count": null,
      "outputs": [
        {
          "output_type": "stream",
          "name": "stdout",
          "text": [
            "Fitting 5 folds for each of 12 candidates, totalling 60 fits\n",
            "[CV] END hidden_layer_sizes=100, learning_rate=constant, solver=sgd; total time=   0.1s\n"
          ]
        },
        {
          "output_type": "stream",
          "name": "stderr",
          "text": [
            "/usr/local/lib/python3.7/dist-packages/sklearn/neural_network/_multilayer_perceptron.py:696: ConvergenceWarning: Stochastic Optimizer: Maximum iterations (200) reached and the optimization hasn't converged yet.\n",
            "  ConvergenceWarning,\n",
            "/usr/local/lib/python3.7/dist-packages/sklearn/neural_network/_multilayer_perceptron.py:696: ConvergenceWarning: Stochastic Optimizer: Maximum iterations (200) reached and the optimization hasn't converged yet.\n",
            "  ConvergenceWarning,\n"
          ]
        },
        {
          "output_type": "stream",
          "name": "stdout",
          "text": [
            "[CV] END hidden_layer_sizes=100, learning_rate=constant, solver=sgd; total time=   0.1s\n",
            "[CV] END hidden_layer_sizes=100, learning_rate=constant, solver=sgd; total time=   0.1s\n"
          ]
        },
        {
          "output_type": "stream",
          "name": "stderr",
          "text": [
            "/usr/local/lib/python3.7/dist-packages/sklearn/neural_network/_multilayer_perceptron.py:696: ConvergenceWarning: Stochastic Optimizer: Maximum iterations (200) reached and the optimization hasn't converged yet.\n",
            "  ConvergenceWarning,\n",
            "/usr/local/lib/python3.7/dist-packages/sklearn/neural_network/_multilayer_perceptron.py:696: ConvergenceWarning: Stochastic Optimizer: Maximum iterations (200) reached and the optimization hasn't converged yet.\n",
            "  ConvergenceWarning,\n"
          ]
        },
        {
          "output_type": "stream",
          "name": "stdout",
          "text": [
            "[CV] END hidden_layer_sizes=100, learning_rate=constant, solver=sgd; total time=   0.1s\n",
            "[CV] END hidden_layer_sizes=100, learning_rate=constant, solver=sgd; total time=   0.1s\n"
          ]
        },
        {
          "output_type": "stream",
          "name": "stderr",
          "text": [
            "/usr/local/lib/python3.7/dist-packages/sklearn/neural_network/_multilayer_perceptron.py:696: ConvergenceWarning: Stochastic Optimizer: Maximum iterations (200) reached and the optimization hasn't converged yet.\n",
            "  ConvergenceWarning,\n",
            "/usr/local/lib/python3.7/dist-packages/sklearn/neural_network/_multilayer_perceptron.py:696: ConvergenceWarning: Stochastic Optimizer: Maximum iterations (200) reached and the optimization hasn't converged yet.\n",
            "  ConvergenceWarning,\n"
          ]
        },
        {
          "output_type": "stream",
          "name": "stdout",
          "text": [
            "[CV] END hidden_layer_sizes=100, learning_rate=constant, solver=adam; total time=   0.1s\n",
            "[CV] END hidden_layer_sizes=100, learning_rate=constant, solver=adam; total time=   0.1s\n"
          ]
        },
        {
          "output_type": "stream",
          "name": "stderr",
          "text": [
            "/usr/local/lib/python3.7/dist-packages/sklearn/neural_network/_multilayer_perceptron.py:696: ConvergenceWarning: Stochastic Optimizer: Maximum iterations (200) reached and the optimization hasn't converged yet.\n",
            "  ConvergenceWarning,\n",
            "/usr/local/lib/python3.7/dist-packages/sklearn/neural_network/_multilayer_perceptron.py:696: ConvergenceWarning: Stochastic Optimizer: Maximum iterations (200) reached and the optimization hasn't converged yet.\n",
            "  ConvergenceWarning,\n"
          ]
        },
        {
          "output_type": "stream",
          "name": "stdout",
          "text": [
            "[CV] END hidden_layer_sizes=100, learning_rate=constant, solver=adam; total time=   0.1s\n",
            "[CV] END hidden_layer_sizes=100, learning_rate=constant, solver=adam; total time=   0.1s\n"
          ]
        },
        {
          "output_type": "stream",
          "name": "stderr",
          "text": [
            "/usr/local/lib/python3.7/dist-packages/sklearn/neural_network/_multilayer_perceptron.py:696: ConvergenceWarning: Stochastic Optimizer: Maximum iterations (200) reached and the optimization hasn't converged yet.\n",
            "  ConvergenceWarning,\n",
            "/usr/local/lib/python3.7/dist-packages/sklearn/neural_network/_multilayer_perceptron.py:696: ConvergenceWarning: Stochastic Optimizer: Maximum iterations (200) reached and the optimization hasn't converged yet.\n",
            "  ConvergenceWarning,\n"
          ]
        },
        {
          "output_type": "stream",
          "name": "stdout",
          "text": [
            "[CV] END hidden_layer_sizes=100, learning_rate=constant, solver=adam; total time=   0.1s\n",
            "[CV] END hidden_layer_sizes=100, learning_rate=adaptive, solver=sgd; total time=   0.1s\n"
          ]
        },
        {
          "output_type": "stream",
          "name": "stderr",
          "text": [
            "/usr/local/lib/python3.7/dist-packages/sklearn/neural_network/_multilayer_perceptron.py:696: ConvergenceWarning: Stochastic Optimizer: Maximum iterations (200) reached and the optimization hasn't converged yet.\n",
            "  ConvergenceWarning,\n",
            "/usr/local/lib/python3.7/dist-packages/sklearn/neural_network/_multilayer_perceptron.py:696: ConvergenceWarning: Stochastic Optimizer: Maximum iterations (200) reached and the optimization hasn't converged yet.\n",
            "  ConvergenceWarning,\n"
          ]
        },
        {
          "output_type": "stream",
          "name": "stdout",
          "text": [
            "[CV] END hidden_layer_sizes=100, learning_rate=adaptive, solver=sgd; total time=   0.1s\n",
            "[CV] END hidden_layer_sizes=100, learning_rate=adaptive, solver=sgd; total time=   0.1s\n"
          ]
        },
        {
          "output_type": "stream",
          "name": "stderr",
          "text": [
            "/usr/local/lib/python3.7/dist-packages/sklearn/neural_network/_multilayer_perceptron.py:696: ConvergenceWarning: Stochastic Optimizer: Maximum iterations (200) reached and the optimization hasn't converged yet.\n",
            "  ConvergenceWarning,\n",
            "/usr/local/lib/python3.7/dist-packages/sklearn/neural_network/_multilayer_perceptron.py:696: ConvergenceWarning: Stochastic Optimizer: Maximum iterations (200) reached and the optimization hasn't converged yet.\n",
            "  ConvergenceWarning,\n"
          ]
        },
        {
          "output_type": "stream",
          "name": "stdout",
          "text": [
            "[CV] END hidden_layer_sizes=100, learning_rate=adaptive, solver=sgd; total time=   0.1s\n",
            "[CV] END hidden_layer_sizes=100, learning_rate=adaptive, solver=sgd; total time=   0.1s\n"
          ]
        },
        {
          "output_type": "stream",
          "name": "stderr",
          "text": [
            "/usr/local/lib/python3.7/dist-packages/sklearn/neural_network/_multilayer_perceptron.py:696: ConvergenceWarning: Stochastic Optimizer: Maximum iterations (200) reached and the optimization hasn't converged yet.\n",
            "  ConvergenceWarning,\n",
            "/usr/local/lib/python3.7/dist-packages/sklearn/neural_network/_multilayer_perceptron.py:696: ConvergenceWarning: Stochastic Optimizer: Maximum iterations (200) reached and the optimization hasn't converged yet.\n",
            "  ConvergenceWarning,\n"
          ]
        },
        {
          "output_type": "stream",
          "name": "stdout",
          "text": [
            "[CV] END hidden_layer_sizes=100, learning_rate=adaptive, solver=adam; total time=   0.1s\n",
            "[CV] END hidden_layer_sizes=100, learning_rate=adaptive, solver=adam; total time=   0.1s\n"
          ]
        },
        {
          "output_type": "stream",
          "name": "stderr",
          "text": [
            "/usr/local/lib/python3.7/dist-packages/sklearn/neural_network/_multilayer_perceptron.py:696: ConvergenceWarning: Stochastic Optimizer: Maximum iterations (200) reached and the optimization hasn't converged yet.\n",
            "  ConvergenceWarning,\n",
            "/usr/local/lib/python3.7/dist-packages/sklearn/neural_network/_multilayer_perceptron.py:696: ConvergenceWarning: Stochastic Optimizer: Maximum iterations (200) reached and the optimization hasn't converged yet.\n",
            "  ConvergenceWarning,\n"
          ]
        },
        {
          "output_type": "stream",
          "name": "stdout",
          "text": [
            "[CV] END hidden_layer_sizes=100, learning_rate=adaptive, solver=adam; total time=   0.1s\n",
            "[CV] END hidden_layer_sizes=100, learning_rate=adaptive, solver=adam; total time=   0.1s\n"
          ]
        },
        {
          "output_type": "stream",
          "name": "stderr",
          "text": [
            "/usr/local/lib/python3.7/dist-packages/sklearn/neural_network/_multilayer_perceptron.py:696: ConvergenceWarning: Stochastic Optimizer: Maximum iterations (200) reached and the optimization hasn't converged yet.\n",
            "  ConvergenceWarning,\n",
            "/usr/local/lib/python3.7/dist-packages/sklearn/neural_network/_multilayer_perceptron.py:696: ConvergenceWarning: Stochastic Optimizer: Maximum iterations (200) reached and the optimization hasn't converged yet.\n",
            "  ConvergenceWarning,\n"
          ]
        },
        {
          "output_type": "stream",
          "name": "stdout",
          "text": [
            "[CV] END hidden_layer_sizes=100, learning_rate=adaptive, solver=adam; total time=   0.1s\n",
            "[CV] END hidden_layer_sizes=(50, 50), learning_rate=constant, solver=sgd; total time=   0.1s\n"
          ]
        },
        {
          "output_type": "stream",
          "name": "stderr",
          "text": [
            "/usr/local/lib/python3.7/dist-packages/sklearn/neural_network/_multilayer_perceptron.py:696: ConvergenceWarning: Stochastic Optimizer: Maximum iterations (200) reached and the optimization hasn't converged yet.\n",
            "  ConvergenceWarning,\n",
            "/usr/local/lib/python3.7/dist-packages/sklearn/neural_network/_multilayer_perceptron.py:696: ConvergenceWarning: Stochastic Optimizer: Maximum iterations (200) reached and the optimization hasn't converged yet.\n",
            "  ConvergenceWarning,\n"
          ]
        },
        {
          "output_type": "stream",
          "name": "stdout",
          "text": [
            "[CV] END hidden_layer_sizes=(50, 50), learning_rate=constant, solver=sgd; total time=   0.2s\n",
            "[CV] END hidden_layer_sizes=(50, 50), learning_rate=constant, solver=sgd; total time=   0.1s\n"
          ]
        },
        {
          "output_type": "stream",
          "name": "stderr",
          "text": [
            "/usr/local/lib/python3.7/dist-packages/sklearn/neural_network/_multilayer_perceptron.py:696: ConvergenceWarning: Stochastic Optimizer: Maximum iterations (200) reached and the optimization hasn't converged yet.\n",
            "  ConvergenceWarning,\n",
            "/usr/local/lib/python3.7/dist-packages/sklearn/neural_network/_multilayer_perceptron.py:696: ConvergenceWarning: Stochastic Optimizer: Maximum iterations (200) reached and the optimization hasn't converged yet.\n",
            "  ConvergenceWarning,\n"
          ]
        },
        {
          "output_type": "stream",
          "name": "stdout",
          "text": [
            "[CV] END hidden_layer_sizes=(50, 50), learning_rate=constant, solver=sgd; total time=   0.1s\n",
            "[CV] END hidden_layer_sizes=(50, 50), learning_rate=constant, solver=sgd; total time=   0.1s\n"
          ]
        },
        {
          "output_type": "stream",
          "name": "stderr",
          "text": [
            "/usr/local/lib/python3.7/dist-packages/sklearn/neural_network/_multilayer_perceptron.py:696: ConvergenceWarning: Stochastic Optimizer: Maximum iterations (200) reached and the optimization hasn't converged yet.\n",
            "  ConvergenceWarning,\n"
          ]
        },
        {
          "output_type": "stream",
          "name": "stdout",
          "text": [
            "[CV] END hidden_layer_sizes=(50, 50), learning_rate=constant, solver=adam; total time=   0.2s\n",
            "[CV] END hidden_layer_sizes=(50, 50), learning_rate=constant, solver=adam; total time=   0.2s\n"
          ]
        },
        {
          "output_type": "stream",
          "name": "stderr",
          "text": [
            "/usr/local/lib/python3.7/dist-packages/sklearn/neural_network/_multilayer_perceptron.py:696: ConvergenceWarning: Stochastic Optimizer: Maximum iterations (200) reached and the optimization hasn't converged yet.\n",
            "  ConvergenceWarning,\n"
          ]
        },
        {
          "output_type": "stream",
          "name": "stdout",
          "text": [
            "[CV] END hidden_layer_sizes=(50, 50), learning_rate=constant, solver=adam; total time=   0.1s\n",
            "[CV] END hidden_layer_sizes=(50, 50), learning_rate=constant, solver=adam; total time=   0.1s\n",
            "[CV] END hidden_layer_sizes=(50, 50), learning_rate=constant, solver=adam; total time=   0.1s\n",
            "[CV] END hidden_layer_sizes=(50, 50), learning_rate=adaptive, solver=sgd; total time=   0.1s\n"
          ]
        },
        {
          "output_type": "stream",
          "name": "stderr",
          "text": [
            "/usr/local/lib/python3.7/dist-packages/sklearn/neural_network/_multilayer_perceptron.py:696: ConvergenceWarning: Stochastic Optimizer: Maximum iterations (200) reached and the optimization hasn't converged yet.\n",
            "  ConvergenceWarning,\n",
            "/usr/local/lib/python3.7/dist-packages/sklearn/neural_network/_multilayer_perceptron.py:696: ConvergenceWarning: Stochastic Optimizer: Maximum iterations (200) reached and the optimization hasn't converged yet.\n",
            "  ConvergenceWarning,\n"
          ]
        },
        {
          "output_type": "stream",
          "name": "stdout",
          "text": [
            "[CV] END hidden_layer_sizes=(50, 50), learning_rate=adaptive, solver=sgd; total time=   0.1s\n",
            "[CV] END hidden_layer_sizes=(50, 50), learning_rate=adaptive, solver=sgd; total time=   0.1s\n"
          ]
        },
        {
          "output_type": "stream",
          "name": "stderr",
          "text": [
            "/usr/local/lib/python3.7/dist-packages/sklearn/neural_network/_multilayer_perceptron.py:696: ConvergenceWarning: Stochastic Optimizer: Maximum iterations (200) reached and the optimization hasn't converged yet.\n",
            "  ConvergenceWarning,\n",
            "/usr/local/lib/python3.7/dist-packages/sklearn/neural_network/_multilayer_perceptron.py:696: ConvergenceWarning: Stochastic Optimizer: Maximum iterations (200) reached and the optimization hasn't converged yet.\n",
            "  ConvergenceWarning,\n"
          ]
        },
        {
          "output_type": "stream",
          "name": "stdout",
          "text": [
            "[CV] END hidden_layer_sizes=(50, 50), learning_rate=adaptive, solver=sgd; total time=   0.1s\n",
            "[CV] END hidden_layer_sizes=(50, 50), learning_rate=adaptive, solver=sgd; total time=   0.1s\n"
          ]
        },
        {
          "output_type": "stream",
          "name": "stderr",
          "text": [
            "/usr/local/lib/python3.7/dist-packages/sklearn/neural_network/_multilayer_perceptron.py:696: ConvergenceWarning: Stochastic Optimizer: Maximum iterations (200) reached and the optimization hasn't converged yet.\n",
            "  ConvergenceWarning,\n"
          ]
        },
        {
          "output_type": "stream",
          "name": "stdout",
          "text": [
            "[CV] END hidden_layer_sizes=(50, 50), learning_rate=adaptive, solver=adam; total time=   0.1s\n",
            "[CV] END hidden_layer_sizes=(50, 50), learning_rate=adaptive, solver=adam; total time=   0.2s\n"
          ]
        },
        {
          "output_type": "stream",
          "name": "stderr",
          "text": [
            "/usr/local/lib/python3.7/dist-packages/sklearn/neural_network/_multilayer_perceptron.py:696: ConvergenceWarning: Stochastic Optimizer: Maximum iterations (200) reached and the optimization hasn't converged yet.\n",
            "  ConvergenceWarning,\n"
          ]
        },
        {
          "output_type": "stream",
          "name": "stdout",
          "text": [
            "[CV] END hidden_layer_sizes=(50, 50), learning_rate=adaptive, solver=adam; total time=   0.1s\n",
            "[CV] END hidden_layer_sizes=(50, 50), learning_rate=adaptive, solver=adam; total time=   0.1s\n",
            "[CV] END hidden_layer_sizes=(50, 50), learning_rate=adaptive, solver=adam; total time=   0.1s\n",
            "[CV] END hidden_layer_sizes=(25, 25), learning_rate=constant, solver=sgd; total time=   0.1s\n"
          ]
        },
        {
          "output_type": "stream",
          "name": "stderr",
          "text": [
            "/usr/local/lib/python3.7/dist-packages/sklearn/neural_network/_multilayer_perceptron.py:696: ConvergenceWarning: Stochastic Optimizer: Maximum iterations (200) reached and the optimization hasn't converged yet.\n",
            "  ConvergenceWarning,\n",
            "/usr/local/lib/python3.7/dist-packages/sklearn/neural_network/_multilayer_perceptron.py:696: ConvergenceWarning: Stochastic Optimizer: Maximum iterations (200) reached and the optimization hasn't converged yet.\n",
            "  ConvergenceWarning,\n"
          ]
        },
        {
          "output_type": "stream",
          "name": "stdout",
          "text": [
            "[CV] END hidden_layer_sizes=(25, 25), learning_rate=constant, solver=sgd; total time=   0.1s\n",
            "[CV] END hidden_layer_sizes=(25, 25), learning_rate=constant, solver=sgd; total time=   0.1s\n"
          ]
        },
        {
          "output_type": "stream",
          "name": "stderr",
          "text": [
            "/usr/local/lib/python3.7/dist-packages/sklearn/neural_network/_multilayer_perceptron.py:696: ConvergenceWarning: Stochastic Optimizer: Maximum iterations (200) reached and the optimization hasn't converged yet.\n",
            "  ConvergenceWarning,\n",
            "/usr/local/lib/python3.7/dist-packages/sklearn/neural_network/_multilayer_perceptron.py:696: ConvergenceWarning: Stochastic Optimizer: Maximum iterations (200) reached and the optimization hasn't converged yet.\n",
            "  ConvergenceWarning,\n"
          ]
        },
        {
          "output_type": "stream",
          "name": "stdout",
          "text": [
            "[CV] END hidden_layer_sizes=(25, 25), learning_rate=constant, solver=sgd; total time=   0.1s\n",
            "[CV] END hidden_layer_sizes=(25, 25), learning_rate=constant, solver=sgd; total time=   0.1s\n"
          ]
        },
        {
          "output_type": "stream",
          "name": "stderr",
          "text": [
            "/usr/local/lib/python3.7/dist-packages/sklearn/neural_network/_multilayer_perceptron.py:696: ConvergenceWarning: Stochastic Optimizer: Maximum iterations (200) reached and the optimization hasn't converged yet.\n",
            "  ConvergenceWarning,\n",
            "/usr/local/lib/python3.7/dist-packages/sklearn/neural_network/_multilayer_perceptron.py:696: ConvergenceWarning: Stochastic Optimizer: Maximum iterations (200) reached and the optimization hasn't converged yet.\n",
            "  ConvergenceWarning,\n"
          ]
        },
        {
          "output_type": "stream",
          "name": "stdout",
          "text": [
            "[CV] END hidden_layer_sizes=(25, 25), learning_rate=constant, solver=adam; total time=   0.1s\n",
            "[CV] END hidden_layer_sizes=(25, 25), learning_rate=constant, solver=adam; total time=   0.1s\n"
          ]
        },
        {
          "output_type": "stream",
          "name": "stderr",
          "text": [
            "/usr/local/lib/python3.7/dist-packages/sklearn/neural_network/_multilayer_perceptron.py:696: ConvergenceWarning: Stochastic Optimizer: Maximum iterations (200) reached and the optimization hasn't converged yet.\n",
            "  ConvergenceWarning,\n",
            "/usr/local/lib/python3.7/dist-packages/sklearn/neural_network/_multilayer_perceptron.py:696: ConvergenceWarning: Stochastic Optimizer: Maximum iterations (200) reached and the optimization hasn't converged yet.\n",
            "  ConvergenceWarning,\n"
          ]
        },
        {
          "output_type": "stream",
          "name": "stdout",
          "text": [
            "[CV] END hidden_layer_sizes=(25, 25), learning_rate=constant, solver=adam; total time=   0.1s\n",
            "[CV] END hidden_layer_sizes=(25, 25), learning_rate=constant, solver=adam; total time=   0.1s\n"
          ]
        },
        {
          "output_type": "stream",
          "name": "stderr",
          "text": [
            "/usr/local/lib/python3.7/dist-packages/sklearn/neural_network/_multilayer_perceptron.py:696: ConvergenceWarning: Stochastic Optimizer: Maximum iterations (200) reached and the optimization hasn't converged yet.\n",
            "  ConvergenceWarning,\n",
            "/usr/local/lib/python3.7/dist-packages/sklearn/neural_network/_multilayer_perceptron.py:696: ConvergenceWarning: Stochastic Optimizer: Maximum iterations (200) reached and the optimization hasn't converged yet.\n",
            "  ConvergenceWarning,\n"
          ]
        },
        {
          "output_type": "stream",
          "name": "stdout",
          "text": [
            "[CV] END hidden_layer_sizes=(25, 25), learning_rate=constant, solver=adam; total time=   0.1s\n",
            "[CV] END hidden_layer_sizes=(25, 25), learning_rate=adaptive, solver=sgd; total time=   0.1s\n"
          ]
        },
        {
          "output_type": "stream",
          "name": "stderr",
          "text": [
            "/usr/local/lib/python3.7/dist-packages/sklearn/neural_network/_multilayer_perceptron.py:696: ConvergenceWarning: Stochastic Optimizer: Maximum iterations (200) reached and the optimization hasn't converged yet.\n",
            "  ConvergenceWarning,\n",
            "/usr/local/lib/python3.7/dist-packages/sklearn/neural_network/_multilayer_perceptron.py:696: ConvergenceWarning: Stochastic Optimizer: Maximum iterations (200) reached and the optimization hasn't converged yet.\n",
            "  ConvergenceWarning,\n"
          ]
        },
        {
          "output_type": "stream",
          "name": "stdout",
          "text": [
            "[CV] END hidden_layer_sizes=(25, 25), learning_rate=adaptive, solver=sgd; total time=   0.1s\n",
            "[CV] END hidden_layer_sizes=(25, 25), learning_rate=adaptive, solver=sgd; total time=   0.1s\n"
          ]
        },
        {
          "output_type": "stream",
          "name": "stderr",
          "text": [
            "/usr/local/lib/python3.7/dist-packages/sklearn/neural_network/_multilayer_perceptron.py:696: ConvergenceWarning: Stochastic Optimizer: Maximum iterations (200) reached and the optimization hasn't converged yet.\n",
            "  ConvergenceWarning,\n",
            "/usr/local/lib/python3.7/dist-packages/sklearn/neural_network/_multilayer_perceptron.py:696: ConvergenceWarning: Stochastic Optimizer: Maximum iterations (200) reached and the optimization hasn't converged yet.\n",
            "  ConvergenceWarning,\n"
          ]
        },
        {
          "output_type": "stream",
          "name": "stdout",
          "text": [
            "[CV] END hidden_layer_sizes=(25, 25), learning_rate=adaptive, solver=sgd; total time=   0.1s\n",
            "[CV] END hidden_layer_sizes=(25, 25), learning_rate=adaptive, solver=sgd; total time=   0.1s\n"
          ]
        },
        {
          "output_type": "stream",
          "name": "stderr",
          "text": [
            "/usr/local/lib/python3.7/dist-packages/sklearn/neural_network/_multilayer_perceptron.py:696: ConvergenceWarning: Stochastic Optimizer: Maximum iterations (200) reached and the optimization hasn't converged yet.\n",
            "  ConvergenceWarning,\n",
            "/usr/local/lib/python3.7/dist-packages/sklearn/neural_network/_multilayer_perceptron.py:696: ConvergenceWarning: Stochastic Optimizer: Maximum iterations (200) reached and the optimization hasn't converged yet.\n",
            "  ConvergenceWarning,\n"
          ]
        },
        {
          "output_type": "stream",
          "name": "stdout",
          "text": [
            "[CV] END hidden_layer_sizes=(25, 25), learning_rate=adaptive, solver=adam; total time=   0.1s\n",
            "[CV] END hidden_layer_sizes=(25, 25), learning_rate=adaptive, solver=adam; total time=   0.1s\n"
          ]
        },
        {
          "output_type": "stream",
          "name": "stderr",
          "text": [
            "/usr/local/lib/python3.7/dist-packages/sklearn/neural_network/_multilayer_perceptron.py:696: ConvergenceWarning: Stochastic Optimizer: Maximum iterations (200) reached and the optimization hasn't converged yet.\n",
            "  ConvergenceWarning,\n",
            "/usr/local/lib/python3.7/dist-packages/sklearn/neural_network/_multilayer_perceptron.py:696: ConvergenceWarning: Stochastic Optimizer: Maximum iterations (200) reached and the optimization hasn't converged yet.\n",
            "  ConvergenceWarning,\n"
          ]
        },
        {
          "output_type": "stream",
          "name": "stdout",
          "text": [
            "[CV] END hidden_layer_sizes=(25, 25), learning_rate=adaptive, solver=adam; total time=   0.1s\n",
            "[CV] END hidden_layer_sizes=(25, 25), learning_rate=adaptive, solver=adam; total time=   0.1s\n"
          ]
        },
        {
          "output_type": "stream",
          "name": "stderr",
          "text": [
            "/usr/local/lib/python3.7/dist-packages/sklearn/neural_network/_multilayer_perceptron.py:696: ConvergenceWarning: Stochastic Optimizer: Maximum iterations (200) reached and the optimization hasn't converged yet.\n",
            "  ConvergenceWarning,\n",
            "/usr/local/lib/python3.7/dist-packages/sklearn/neural_network/_multilayer_perceptron.py:696: ConvergenceWarning: Stochastic Optimizer: Maximum iterations (200) reached and the optimization hasn't converged yet.\n",
            "  ConvergenceWarning,\n"
          ]
        },
        {
          "output_type": "stream",
          "name": "stdout",
          "text": [
            "[CV] END hidden_layer_sizes=(25, 25), learning_rate=adaptive, solver=adam; total time=   0.1s\n",
            "Overall fit time:  25.995039701461792\n",
            "Predict time:  0.0018723011016845703\n"
          ]
        },
        {
          "output_type": "stream",
          "name": "stderr",
          "text": [
            "/usr/local/lib/python3.7/dist-packages/sklearn/neural_network/_multilayer_perceptron.py:696: ConvergenceWarning: Stochastic Optimizer: Maximum iterations (200) reached and the optimization hasn't converged yet.\n",
            "  ConvergenceWarning,\n"
          ]
        }
      ]
    },
    {
      "cell_type": "code",
      "metadata": {
        "id": "ZIouMSNCxbjm"
      },
      "source": [
        "print(mlp_grid.best_estimator_)"
      ],
      "execution_count": null,
      "outputs": []
    },
    {
      "cell_type": "markdown",
      "metadata": {
        "id": "OnNWfeqIyNlE"
      },
      "source": [
        "Για τον MLP βλέπουμε ότι το καλύτερο είναι για 100 κρυφά επίπεδα, learning_rate='adaptive' και solver='sgd'\n"
      ]
    },
    {
      "cell_type": "markdown",
      "metadata": {
        "id": "6jYXlWXZUeTk"
      },
      "source": [
        "##Αποτελέσματα και συμπεράσματα\n"
      ]
    },
    {
      "cell_type": "code",
      "metadata": {
        "colab": {
          "base_uri": "https://localhost:8080/",
          "height": 282
        },
        "id": "FZzMjeAhziAl",
        "outputId": "0bbd4918-e52f-4c50-b441-7b4dafeb57bd"
      },
      "source": [
        "x = [\"Απλή Προσέγγιση\", \"Προεπεξεργασία\", \"Pipeline\"]\n",
        "y= [0.5217391304347826, 0.5652173913043478, 0.7391304347826086]\n",
        "plt.title(\"score - Dummy Classifier(uniform)\")\n",
        "plt.bar(x,y)\n",
        "plt.show()"
      ],
      "execution_count": null,
      "outputs": [
        {
          "output_type": "display_data",
          "data": {
            "image/png": "[encoded data removed]",
            "text/plain": [
              "<Figure size 432x288 with 1 Axes>"
            ]
          },
          "metadata": {
            "needs_background": "light"
          }
        }
      ]
    },
    {
      "cell_type": "code",
      "metadata": {
        "colab": {
          "base_uri": "https://localhost:8080/",
          "height": 282
        },
        "id": "l6Y5dk2M1CCv",
        "outputId": "7a00322c-ac4d-4358-f084-788f9bca9bd0"
      },
      "source": [
        "y= [0.9130434782608695, 0.9130434782608695, 0.9130434782608695]\n",
        "plt.title(\" score - Gaussian Naive Bayes\")\n",
        "plt.bar(x,y)\n",
        "plt.show()"
      ],
      "execution_count": null,
      "outputs": [
        {
          "output_type": "display_data",
          "data": {
            "image/png": "[encoded data removed]",
            "text/plain": [
              "<Figure size 432x288 with 1 Axes>"
            ]
          },
          "metadata": {
            "needs_background": "light"
          }
        }
      ]
    },
    {
      "cell_type": "code",
      "metadata": {
        "colab": {
          "base_uri": "https://localhost:8080/",
          "height": 282
        },
        "id": "A3zgsVCC1Cm_",
        "outputId": "c367f6cc-c036-47c1-beec-9c344f4b136d"
      },
      "source": [
        "y= [0.9565217391304348, 0.9130434782608695, 0.8260869565217391]\n",
        "plt.title(\"score - k-Nearest Neighboors\")\n",
        "plt.bar(x,y)\n",
        "plt.show()"
      ],
      "execution_count": null,
      "outputs": [
        {
          "output_type": "display_data",
          "data": {
            "image/png": "[encoded data removed]",
            "text/plain": [
              "<Figure size 432x288 with 1 Axes>"
            ]
          },
          "metadata": {
            "needs_background": "light"
          }
        }
      ]
    },
    {
      "cell_type": "code",
      "metadata": {
        "colab": {
          "base_uri": "https://localhost:8080/",
          "height": 282
        },
        "id": "feY0RoIE1NP4",
        "outputId": "4be828ee-5eb2-459d-f48e-35a5f8db96d9"
      },
      "source": [
        "y= [0.9565217391304348, 0.9565217391304348, 0.9565217391304348]\n",
        "plt.title(\"Logistic Regration\")\n",
        "plt.bar(x,y)\n",
        "plt.show()"
      ],
      "execution_count": null,
      "outputs": [
        {
          "output_type": "display_data",
          "data": {
            "image/png": "[encoded data removed]",
            "text/plain": [
              "<Figure size 432x288 with 1 Axes>"
            ]
          },
          "metadata": {
            "needs_background": "light"
          }
        }
      ]
    },
    {
      "cell_type": "markdown",
      "metadata": {
        "id": "oOu9gV0I3DwP"
      },
      "source": [
        "Παρατηρούμε ότι στην περίπτωση του Dummy Classifier το score βελτιώνεται ενώ στους υπόλοιπους ταξινομητές έχουμε τα ίδια ή και λίγο χειρότερα scores. Όμοια αποτελέσματα παίρνουμε και αν δούμε το accuracy score η το f1-macro."
      ]
    }
  ]
}